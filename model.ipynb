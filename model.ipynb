{
  "nbformat": 4,
  "nbformat_minor": 0,
  "metadata": {
    "colab": {
      "name": "model.ipynb",
      "provenance": [],
      "collapsed_sections": [],
      "authorship_tag": "ABX9TyN64v+eCARtmDV1jptoo/U+",
      "include_colab_link": true
    },
    "kernelspec": {
      "display_name": "Python 3",
      "name": "python3"
    },
    "language_info": {
      "name": "python"
    }
  },
  "cells": [
    {
      "cell_type": "markdown",
      "metadata": {
        "id": "view-in-github",
        "colab_type": "text"
      },
      "source": [
        "<a href=\"https://colab.research.google.com/github/macsakini/Financial-Modelling/blob/main/model.ipynb\" target=\"_parent\"><img src=\"https://colab.research.google.com/assets/colab-badge.svg\" alt=\"Open In Colab\"/></a>"
      ]
    },
    {
      "cell_type": "markdown",
      "metadata": {
        "id": "q-zoeT0ECa6Y"
      },
      "source": [
        ""
      ]
    },
    {
      "cell_type": "markdown",
      "metadata": {
        "id": "ncYUcWRcENMj"
      },
      "source": [
        "**This is a Keras Implementation of the VIT**"
      ]
    },
    {
      "cell_type": "code",
      "metadata": {
        "colab": {
          "base_uri": "https://localhost:8080/"
        },
        "id": "96o3T5pdavtR",
        "outputId": "2601b4e7-4279-4d74-9469-9bf725d4ae83"
      },
      "source": [
        "!pip install -U tensorflow-addons"
      ],
      "execution_count": 4,
      "outputs": [
        {
          "output_type": "stream",
          "name": "stdout",
          "text": [
            "Collecting tensorflow-addons\n",
            "  Downloading tensorflow_addons-0.14.0-cp37-cp37m-manylinux_2_12_x86_64.manylinux2010_x86_64.whl (1.1 MB)\n",
            "\u001b[?25l\r\u001b[K     |▎                               | 10 kB 4.9 MB/s eta 0:00:01\r\u001b[K     |▋                               | 20 kB 5.3 MB/s eta 0:00:01\r\u001b[K     |▉                               | 30 kB 5.7 MB/s eta 0:00:01\r\u001b[K     |█▏                              | 40 kB 6.6 MB/s eta 0:00:01\r\u001b[K     |█▌                              | 51 kB 3.8 MB/s eta 0:00:01\r\u001b[K     |█▊                              | 61 kB 4.4 MB/s eta 0:00:01\r\u001b[K     |██                              | 71 kB 4.4 MB/s eta 0:00:01\r\u001b[K     |██▍                             | 81 kB 4.5 MB/s eta 0:00:01\r\u001b[K     |██▋                             | 92 kB 5.0 MB/s eta 0:00:01\r\u001b[K     |███                             | 102 kB 4.3 MB/s eta 0:00:01\r\u001b[K     |███▎                            | 112 kB 4.3 MB/s eta 0:00:01\r\u001b[K     |███▌                            | 122 kB 4.3 MB/s eta 0:00:01\r\u001b[K     |███▉                            | 133 kB 4.3 MB/s eta 0:00:01\r\u001b[K     |████▏                           | 143 kB 4.3 MB/s eta 0:00:01\r\u001b[K     |████▍                           | 153 kB 4.3 MB/s eta 0:00:01\r\u001b[K     |████▊                           | 163 kB 4.3 MB/s eta 0:00:01\r\u001b[K     |█████                           | 174 kB 4.3 MB/s eta 0:00:01\r\u001b[K     |█████▎                          | 184 kB 4.3 MB/s eta 0:00:01\r\u001b[K     |█████▋                          | 194 kB 4.3 MB/s eta 0:00:01\r\u001b[K     |██████                          | 204 kB 4.3 MB/s eta 0:00:01\r\u001b[K     |██████▏                         | 215 kB 4.3 MB/s eta 0:00:01\r\u001b[K     |██████▌                         | 225 kB 4.3 MB/s eta 0:00:01\r\u001b[K     |██████▉                         | 235 kB 4.3 MB/s eta 0:00:01\r\u001b[K     |███████                         | 245 kB 4.3 MB/s eta 0:00:01\r\u001b[K     |███████▍                        | 256 kB 4.3 MB/s eta 0:00:01\r\u001b[K     |███████▊                        | 266 kB 4.3 MB/s eta 0:00:01\r\u001b[K     |████████                        | 276 kB 4.3 MB/s eta 0:00:01\r\u001b[K     |████████▎                       | 286 kB 4.3 MB/s eta 0:00:01\r\u001b[K     |████████▋                       | 296 kB 4.3 MB/s eta 0:00:01\r\u001b[K     |████████▉                       | 307 kB 4.3 MB/s eta 0:00:01\r\u001b[K     |█████████▏                      | 317 kB 4.3 MB/s eta 0:00:01\r\u001b[K     |█████████▌                      | 327 kB 4.3 MB/s eta 0:00:01\r\u001b[K     |█████████▊                      | 337 kB 4.3 MB/s eta 0:00:01\r\u001b[K     |██████████                      | 348 kB 4.3 MB/s eta 0:00:01\r\u001b[K     |██████████▍                     | 358 kB 4.3 MB/s eta 0:00:01\r\u001b[K     |██████████▋                     | 368 kB 4.3 MB/s eta 0:00:01\r\u001b[K     |███████████                     | 378 kB 4.3 MB/s eta 0:00:01\r\u001b[K     |███████████▎                    | 389 kB 4.3 MB/s eta 0:00:01\r\u001b[K     |███████████▌                    | 399 kB 4.3 MB/s eta 0:00:01\r\u001b[K     |███████████▉                    | 409 kB 4.3 MB/s eta 0:00:01\r\u001b[K     |████████████▏                   | 419 kB 4.3 MB/s eta 0:00:01\r\u001b[K     |████████████▍                   | 430 kB 4.3 MB/s eta 0:00:01\r\u001b[K     |████████████▊                   | 440 kB 4.3 MB/s eta 0:00:01\r\u001b[K     |█████████████                   | 450 kB 4.3 MB/s eta 0:00:01\r\u001b[K     |█████████████▎                  | 460 kB 4.3 MB/s eta 0:00:01\r\u001b[K     |█████████████▋                  | 471 kB 4.3 MB/s eta 0:00:01\r\u001b[K     |██████████████                  | 481 kB 4.3 MB/s eta 0:00:01\r\u001b[K     |██████████████▏                 | 491 kB 4.3 MB/s eta 0:00:01\r\u001b[K     |██████████████▌                 | 501 kB 4.3 MB/s eta 0:00:01\r\u001b[K     |██████████████▉                 | 512 kB 4.3 MB/s eta 0:00:01\r\u001b[K     |███████████████                 | 522 kB 4.3 MB/s eta 0:00:01\r\u001b[K     |███████████████▍                | 532 kB 4.3 MB/s eta 0:00:01\r\u001b[K     |███████████████▊                | 542 kB 4.3 MB/s eta 0:00:01\r\u001b[K     |████████████████                | 552 kB 4.3 MB/s eta 0:00:01\r\u001b[K     |████████████████▎               | 563 kB 4.3 MB/s eta 0:00:01\r\u001b[K     |████████████████▋               | 573 kB 4.3 MB/s eta 0:00:01\r\u001b[K     |████████████████▉               | 583 kB 4.3 MB/s eta 0:00:01\r\u001b[K     |█████████████████▏              | 593 kB 4.3 MB/s eta 0:00:01\r\u001b[K     |█████████████████▌              | 604 kB 4.3 MB/s eta 0:00:01\r\u001b[K     |█████████████████▊              | 614 kB 4.3 MB/s eta 0:00:01\r\u001b[K     |██████████████████              | 624 kB 4.3 MB/s eta 0:00:01\r\u001b[K     |██████████████████▍             | 634 kB 4.3 MB/s eta 0:00:01\r\u001b[K     |██████████████████▋             | 645 kB 4.3 MB/s eta 0:00:01\r\u001b[K     |███████████████████             | 655 kB 4.3 MB/s eta 0:00:01\r\u001b[K     |███████████████████▎            | 665 kB 4.3 MB/s eta 0:00:01\r\u001b[K     |███████████████████▌            | 675 kB 4.3 MB/s eta 0:00:01\r\u001b[K     |███████████████████▉            | 686 kB 4.3 MB/s eta 0:00:01\r\u001b[K     |████████████████████▏           | 696 kB 4.3 MB/s eta 0:00:01\r\u001b[K     |████████████████████▍           | 706 kB 4.3 MB/s eta 0:00:01\r\u001b[K     |████████████████████▊           | 716 kB 4.3 MB/s eta 0:00:01\r\u001b[K     |█████████████████████           | 727 kB 4.3 MB/s eta 0:00:01\r\u001b[K     |█████████████████████▎          | 737 kB 4.3 MB/s eta 0:00:01\r\u001b[K     |█████████████████████▋          | 747 kB 4.3 MB/s eta 0:00:01\r\u001b[K     |██████████████████████          | 757 kB 4.3 MB/s eta 0:00:01\r\u001b[K     |██████████████████████▏         | 768 kB 4.3 MB/s eta 0:00:01\r\u001b[K     |██████████████████████▌         | 778 kB 4.3 MB/s eta 0:00:01\r\u001b[K     |██████████████████████▉         | 788 kB 4.3 MB/s eta 0:00:01\r\u001b[K     |███████████████████████         | 798 kB 4.3 MB/s eta 0:00:01\r\u001b[K     |███████████████████████▍        | 808 kB 4.3 MB/s eta 0:00:01\r\u001b[K     |███████████████████████▊        | 819 kB 4.3 MB/s eta 0:00:01\r\u001b[K     |████████████████████████        | 829 kB 4.3 MB/s eta 0:00:01\r\u001b[K     |████████████████████████▎       | 839 kB 4.3 MB/s eta 0:00:01\r\u001b[K     |████████████████████████▋       | 849 kB 4.3 MB/s eta 0:00:01\r\u001b[K     |████████████████████████▉       | 860 kB 4.3 MB/s eta 0:00:01\r\u001b[K     |█████████████████████████▏      | 870 kB 4.3 MB/s eta 0:00:01\r\u001b[K     |█████████████████████████▍      | 880 kB 4.3 MB/s eta 0:00:01\r\u001b[K     |█████████████████████████▊      | 890 kB 4.3 MB/s eta 0:00:01\r\u001b[K     |██████████████████████████      | 901 kB 4.3 MB/s eta 0:00:01\r\u001b[K     |██████████████████████████▎     | 911 kB 4.3 MB/s eta 0:00:01\r\u001b[K     |██████████████████████████▋     | 921 kB 4.3 MB/s eta 0:00:01\r\u001b[K     |███████████████████████████     | 931 kB 4.3 MB/s eta 0:00:01\r\u001b[K     |███████████████████████████▏    | 942 kB 4.3 MB/s eta 0:00:01\r\u001b[K     |███████████████████████████▌    | 952 kB 4.3 MB/s eta 0:00:01\r\u001b[K     |███████████████████████████▉    | 962 kB 4.3 MB/s eta 0:00:01\r\u001b[K     |████████████████████████████    | 972 kB 4.3 MB/s eta 0:00:01\r\u001b[K     |████████████████████████████▍   | 983 kB 4.3 MB/s eta 0:00:01\r\u001b[K     |████████████████████████████▊   | 993 kB 4.3 MB/s eta 0:00:01\r\u001b[K     |█████████████████████████████   | 1.0 MB 4.3 MB/s eta 0:00:01\r\u001b[K     |█████████████████████████████▎  | 1.0 MB 4.3 MB/s eta 0:00:01\r\u001b[K     |█████████████████████████████▋  | 1.0 MB 4.3 MB/s eta 0:00:01\r\u001b[K     |█████████████████████████████▉  | 1.0 MB 4.3 MB/s eta 0:00:01\r\u001b[K     |██████████████████████████████▏ | 1.0 MB 4.3 MB/s eta 0:00:01\r\u001b[K     |██████████████████████████████▌ | 1.1 MB 4.3 MB/s eta 0:00:01\r\u001b[K     |██████████████████████████████▊ | 1.1 MB 4.3 MB/s eta 0:00:01\r\u001b[K     |███████████████████████████████ | 1.1 MB 4.3 MB/s eta 0:00:01\r\u001b[K     |███████████████████████████████▍| 1.1 MB 4.3 MB/s eta 0:00:01\r\u001b[K     |███████████████████████████████▋| 1.1 MB 4.3 MB/s eta 0:00:01\r\u001b[K     |████████████████████████████████| 1.1 MB 4.3 MB/s eta 0:00:01\r\u001b[K     |████████████████████████████████| 1.1 MB 4.3 MB/s \n",
            "\u001b[?25hRequirement already satisfied: typeguard>=2.7 in /usr/local/lib/python3.7/dist-packages (from tensorflow-addons) (2.7.1)\n",
            "Installing collected packages: tensorflow-addons\n",
            "Successfully installed tensorflow-addons-0.14.0\n"
          ]
        }
      ]
    },
    {
      "cell_type": "code",
      "metadata": {
        "id": "8YkduvQdalSS"
      },
      "source": [
        "#import de[endancies]\n",
        "import numpy as np\n",
        "import tensorflow as tf\n",
        "from tensorflow import keras\n",
        "from tensorflow.keras import layers\n",
        "import tensorflow_addons as tfa"
      ],
      "execution_count": 5,
      "outputs": []
    },
    {
      "cell_type": "code",
      "metadata": {
        "colab": {
          "base_uri": "https://localhost:8080/"
        },
        "id": "ZhNc6VVfa36m",
        "outputId": "a0576cb4-8b5a-4bc1-d66d-95e6edcebe37"
      },
      "source": [
        "num_classes = 100\n",
        "input_shape = (32, 32, 3)\n",
        "\n",
        "(x_train_1, y_train_1), (x_test_1, y_test_1) = keras.datasets.cifar100.load_data()\n",
        "\n",
        "print(f\"x_train shape: {x_train_1.shape} - y_train shape: {y_train_1.shape}\")\n",
        "print(f\"x_test shape: {x_test_1.shape} - y_test shape: {y_test_1.shape}\")"
      ],
      "execution_count": 6,
      "outputs": [
        {
          "output_type": "stream",
          "name": "stdout",
          "text": [
            "Downloading data from https://www.cs.toronto.edu/~kriz/cifar-100-python.tar.gz\n",
            "169009152/169001437 [==============================] - 2s 0us/step\n",
            "169017344/169001437 [==============================] - 2s 0us/step\n",
            "x_train shape: (50000, 32, 32, 3) - y_train shape: (50000, 1)\n",
            "x_test shape: (10000, 32, 32, 3) - y_test shape: (10000, 1)\n"
          ]
        }
      ]
    },
    {
      "cell_type": "markdown",
      "metadata": {
        "id": "C9q69qSJCxgF"
      },
      "source": [
        "# **We all know that the CIFAR Images are quite huge as such dimensionality rduction using a PCA Algorithm can help fine tune the model**"
      ]
    },
    {
      "cell_type": "code",
      "metadata": {
        "id": "aBpG6bVhaofb"
      },
      "source": [
        "#Set learning parameters to that of the Keras Implementation\n",
        "learning_rate = 0.001\n",
        "weight_decay = 0.0001\n",
        "batch_size = 256\n",
        "num_epochs = 100\n",
        "image_size = 72  # We'll resize input images to this size\n",
        "patch_size = 6  # Size of the patches to be extract from the input images\n",
        "num_patches = (image_size // patch_size) ** 2\n",
        "projection_dim = 64\n",
        "num_heads = 4\n",
        "transformer_units = [\n",
        "    projection_dim * 2,\n",
        "    projection_dim,\n",
        "]  # Size of the transformer layers\n",
        "transformer_layers = 8\n",
        "mlp_head_units = [2048, 1024]  # Size of the dense layers of the final classifier"
      ],
      "execution_count": 8,
      "outputs": []
    },
    {
      "cell_type": "markdown",
      "metadata": {
        "id": "K4LDB6zeIoZS"
      },
      "source": [
        "# **Classic Patching Implementation**"
      ]
    },
    {
      "cell_type": "code",
      "metadata": {
        "id": "EAMyb39NbWe_"
      },
      "source": [
        "class Patches(layers.Layer):\n",
        "    def __init__(self, patch_size):\n",
        "        super(Patches, self).__init__()\n",
        "        self.patch_size = patch_size\n",
        "\n",
        "    def call(self, images):\n",
        "        batch_size = tf.shape(images)[0]\n",
        "        patches = tf.image.extract_patches(\n",
        "            images=images,\n",
        "            sizes=[1, self.patch_size, self.patch_size, 1],\n",
        "            strides=[1, self.patch_size, self.patch_size, 1],\n",
        "            rates=[1, 1, 1, 1],\n",
        "            padding=\"VALID\",\n",
        "        )\n",
        "        patch_dims = patches.shape[-1]\n",
        "        patches = tf.reshape(patches, [batch_size, -1, patch_dims])\n",
        "        return patches"
      ],
      "execution_count": 9,
      "outputs": []
    },
    {
      "cell_type": "code",
      "metadata": {
        "colab": {
          "base_uri": "https://localhost:8080/",
          "height": 549
        },
        "id": "NshbytYobRHh",
        "outputId": "901a32bd-aa2e-4c10-9257-98c40705456a"
      },
      "source": [
        "import matplotlib.pyplot as plt\n",
        "\n",
        "plt.figure(figsize=(4, 4))\n",
        "image = x_train_1[np.random.choice(range(x_train_1.shape[0]))]\n",
        "plt.imshow(image.astype(\"uint8\"))\n",
        "plt.axis(\"off\")\n",
        "\n",
        "resized_image = tf.image.resize(\n",
        "    tf.convert_to_tensor([image]), size=(image_size, image_size)\n",
        ")\n",
        "patches = Patches(patch_size)(resized_image)\n",
        "print(f\"Image size: {image_size} X {image_size}\")\n",
        "print(f\"Patch size: {patch_size} X {patch_size}\")\n",
        "print(f\"Patches per image: {patches.shape[1]}\")\n",
        "print(f\"Elements per patch: {patches.shape[-1]}\")\n",
        "\n",
        "n = int(np.sqrt(patches.shape[1]))\n",
        "plt.figure(figsize=(4, 4))\n",
        "for i, patch in enumerate(patches[0]):\n",
        "    ax = plt.subplot(n, n, i + 1)\n",
        "    patch_img = tf.reshape(patch, (patch_size, patch_size, 3))\n",
        "    plt.imshow(patch_img.numpy().astype(\"uint8\"))\n",
        "    plt.axis(\"off\")"
      ],
      "execution_count": 10,
      "outputs": [
        {
          "output_type": "stream",
          "name": "stdout",
          "text": [
            "Image size: 72 X 72\n",
            "Patch size: 6 X 6\n",
            "Patches per image: 144\n",
            "Elements per patch: 108\n"
          ]
        },
        {
          "output_type": "display_data",
          "data": {
            "image/png": "[encoded data removed]",
            "text/plain": [
              "<Figure size 288x288 with 1 Axes>"
            ]
          },
          "metadata": {
            "needs_background": "light"
          }
        },
        {
          "output_type": "display_data",
          "data": {
            "image/png": "[encoded data removed]",
            "text/plain": [
              "<Figure size 288x288 with 144 Axes>"
            ]
          },
          "metadata": {
            "needs_background": "light"
          }
        }
      ]
    },
    {
      "cell_type": "markdown",
      "metadata": {
        "id": "Od09FAI5Eaga"
      },
      "source": [
        "# ***The PCA Algorithm Implementation ***"
      ]
    },
    {
      "cell_type": "markdown",
      "metadata": {
        "id": "CgormVldE0oE"
      },
      "source": [
        "**Implementation is derived from this paper\n",
        "https://arxiv.org/ftp/arxiv/papers/1304/1304.2683.pdf**"
      ]
    },
    {
      "cell_type": "code",
      "metadata": {
        "id": "JxzpwRy9dO0G"
      },
      "source": [
        "#Import all necessary dependancies\n",
        "import matplotlib.pyplot as plt\n",
        "from sklearn.model_selection import train_test_split\n",
        "from sklearn.neural_network import MLPClassifier\n",
        "from sklearn.metrics import accuracy_score, confusion_matrix\n",
        "from sklearn.decomposition import PCA"
      ],
      "execution_count": 12,
      "outputs": []
    },
    {
      "cell_type": "code",
      "metadata": {
        "id": "T1I1cb3LiE2t"
      },
      "source": [
        "dataset = keras.datasets.cifar100.load_data()\n",
        "\n",
        "(X,Y),(x,y) = dataset"
      ],
      "execution_count": 38,
      "outputs": []
    },
    {
      "cell_type": "code",
      "metadata": {
        "colab": {
          "base_uri": "https://localhost:8080/"
        },
        "id": "kM6B2eHeFwW7",
        "outputId": "e3c1b927-3a0b-4f66-8b76-831f37ec394e"
      },
      "source": [
        "X.shape "
      ],
      "execution_count": 39,
      "outputs": [
        {
          "output_type": "execute_result",
          "data": {
            "text/plain": [
              "(50000, 32, 32, 3)"
            ]
          },
          "metadata": {},
          "execution_count": 39
        }
      ]
    },
    {
      "cell_type": "code",
      "metadata": {
        "colab": {
          "base_uri": "https://localhost:8080/",
          "height": 283
        },
        "id": "ukSy15UJiXt-",
        "outputId": "931ef8d6-4d98-421e-83e2-71af09bf7ed5"
      },
      "source": [
        "plt.imshow(X[0])"
      ],
      "execution_count": 40,
      "outputs": [
        {
          "output_type": "execute_result",
          "data": {
            "text/plain": [
              "<matplotlib.image.AxesImage at 0x7f917dd26390>"
            ]
          },
          "metadata": {},
          "execution_count": 40
        },
        {
          "output_type": "display_data",
          "data": {
            "image/png": "[encoded data removed]",
            "text/plain": [
              "<Figure size 432x288 with 1 Axes>"
            ]
          },
          "metadata": {
            "needs_background": "light"
          }
        }
      ]
    },
    {
      "cell_type": "code",
      "metadata": {
        "id": "zvDCHNpBGdrf"
      },
      "source": [
        "X_flat = np.array(X).reshape((50000, 32*32*3))\n",
        "\n",
        "X_train, X_test, y_train, y_test = train_test_split(X_flat, Y, test_size=0.3, random_state=42)"
      ],
      "execution_count": 42,
      "outputs": []
    },
    {
      "cell_type": "code",
      "metadata": {
        "id": "SWpQwc9-iju6"
      },
      "source": [
        "pca_dims = PCA()\n",
        "pca_dims.fit(X_train)\n",
        "cumsum = np.cumsum(pca_dims.explained_variance_ratio_)\n",
        "d = np.argmax(cumsum >= 0.95) + 1"
      ],
      "execution_count": 43,
      "outputs": []
    },
    {
      "cell_type": "code",
      "metadata": {
        "colab": {
          "base_uri": "https://localhost:8080/"
        },
        "id": "58mIuHWbir4m",
        "outputId": "e5bee713-7e95-4803-ab84-d2681202852e"
      },
      "source": [
        "d"
      ],
      "execution_count": 44,
      "outputs": [
        {
          "output_type": "execute_result",
          "data": {
            "text/plain": [
              "202"
            ]
          },
          "metadata": {},
          "execution_count": 44
        }
      ]
    },
    {
      "cell_type": "code",
      "metadata": {
        "id": "ln0Tat5miygK"
      },
      "source": [
        "pca = PCA(n_components=d)\n",
        "X_reduced = pca.fit_transform(X_train)\n",
        "X_recovered = pca.inverse_transform(X_reduced)"
      ],
      "execution_count": 45,
      "outputs": []
    },
    {
      "cell_type": "code",
      "metadata": {
        "colab": {
          "base_uri": "https://localhost:8080/"
        },
        "id": "8tG6nrnGHWRg",
        "outputId": "823d27fc-2384-45e2-cae8-ab788a984b90"
      },
      "source": [
        "print(\"reduced shape: \" + str(X_reduced.shape))\n",
        "print(\"recovered shape: \" + str(X_recovered.shape))"
      ],
      "execution_count": 46,
      "outputs": [
        {
          "output_type": "stream",
          "name": "stdout",
          "text": [
            "reduced shape: (35000, 202)\n",
            "recovered shape: (35000, 3072)\n"
          ]
        }
      ]
    },
    {
      "cell_type": "code",
      "metadata": {
        "colab": {
          "base_uri": "https://localhost:8080/",
          "height": 233
        },
        "id": "epR1ixq-i4k7",
        "outputId": "994e7dce-b578-4b8a-a3bf-f9a4e5824a8b"
      },
      "source": [
        "f = plt.figure()\n",
        "f.add_subplot(1,2, 1)\n",
        "plt.title(\"original\")\n",
        "plt.imshow(X_train[0].reshape((32,32,3)))\n",
        "f.add_subplot(1,2, 2)\n",
        "\n",
        "plt.title(\"PCA compressed\")\n",
        "plt.imshow(X_recovered[0].reshape((32,32,3)))\n",
        "plt.show(block=True)"
      ],
      "execution_count": 53,
      "outputs": [
        {
          "output_type": "stream",
          "name": "stderr",
          "text": [
            "Clipping input data to the valid range for imshow with RGB data ([0..1] for floats or [0..255] for integers).\n"
          ]
        },
        {
          "output_type": "display_data",
          "data": {
            "image/png": "[encoded data removed]",
            "text/plain": [
              "<Figure size 432x288 with 2 Axes>"
            ]
          },
          "metadata": {
            "needs_background": "light"
          }
        }
      ]
    },
    {
      "cell_type": "code",
      "metadata": {
        "id": "uLUx6w5mbndl"
      },
      "source": [
        "data_augmentation = keras.Sequential(\n",
        "    [\n",
        "        layers.Normalization(),\n",
        "        layers.Resizing(image_size, image_size),\n",
        "        layers.RandomFlip(\"horizontal\"),\n",
        "        layers.RandomRotation(factor=0.02),\n",
        "        layers.RandomZoom(\n",
        "            height_factor=0.2, width_factor=0.2\n",
        "        ),\n",
        "    ],\n",
        "    name=\"data_augmentation\",\n",
        ")\n",
        "# Compute the mean and the variance of the training data for normalization.\n",
        "data_augmentation.layers[0].adapt(x_train)"
      ],
      "execution_count": 35,
      "outputs": []
    },
    {
      "cell_type": "code",
      "metadata": {
        "id": "6b3DgGtgcS_1"
      },
      "source": [
        "class PatchEncoder(layers.Layer):\n",
        "    def __init__(self, num_patches, projection_dim):\n",
        "        super(PatchEncoder, self).__init__()\n",
        "        self.num_patches = num_patches\n",
        "        self.projection = layers.Dense(units=projection_dim)\n",
        "        self.position_embedding = layers.Embedding(\n",
        "            input_dim=num_patches, output_dim=projection_dim\n",
        "        )\n",
        "\n",
        "    def call(self, patch):\n",
        "        positions = tf.range(start=0, limit=self.num_patches, delta=1)\n",
        "        encoded = self.projection(patch) + self.position_embedding(positions)\n",
        "        return encoded"
      ],
      "execution_count": 36,
      "outputs": []
    },
    {
      "cell_type": "code",
      "metadata": {
        "id": "7R5wKhcAft_S"
      },
      "source": [
        "\n",
        "test_img=X_recovered[0].reshape((32,32,3))\n",
        "\n",
        "# Augment data.\n",
        "augmented = data_augmentation(test_img)\n",
        "    # Create patches.\n",
        "patches = Patches(patch_size)(augmented)\n",
        "    # Encode patches.\n",
        "encoded_patches = PatchEncoder(num_patches, projection_dim)(patches)\n"
      ],
      "execution_count": 54,
      "outputs": []
    },
    {
      "cell_type": "code",
      "metadata": {
        "colab": {
          "base_uri": "https://localhost:8080/"
        },
        "id": "ajevVEQdJ6SG",
        "outputId": "faedbdf3-3351-4aab-fe0a-d2f8a305f96a"
      },
      "source": [
        "print(encoded_patches)"
      ],
      "execution_count": 59,
      "outputs": [
        {
          "output_type": "stream",
          "name": "stdout",
          "text": [
            "tf.Tensor(\n",
            "[[[-0.18724051 -0.69447476 -0.05322197 ...  0.7903863   0.6240824\n",
            "   -0.60837424]\n",
            "  [-0.12412484 -0.8086192  -0.18669103 ...  0.78336203  0.69633204\n",
            "   -0.66260433]\n",
            "  [-0.15914248 -0.8267771  -0.2489398  ...  0.86067164  0.5428806\n",
            "   -0.71714526]\n",
            "  ...\n",
            "  [-0.09538515 -0.414052    0.02060378 ...  0.63496774  0.42064783\n",
            "   -0.41829208]\n",
            "  [ 0.11108314 -0.37539962 -0.15650079 ...  0.7806062   0.58078766\n",
            "   -0.46516955]\n",
            "  [ 0.36914378 -0.49942663 -0.6723222  ...  1.2415265   0.7840929\n",
            "   -0.66849   ]]], shape=(1, 144, 64), dtype=float32)\n"
          ]
        }
      ]
    },
    {
      "cell_type": "code",
      "metadata": {
        "id": "Q3bSZ2WCKbru"
      },
      "source": [
        "X_train = X_recovered.reshape(35000,32,32,3)"
      ],
      "execution_count": 61,
      "outputs": []
    },
    {
      "cell_type": "code",
      "metadata": {
        "id": "ULn8NPNAbun1"
      },
      "source": [
        "def mlp(x, hidden_units, dropout_rate):\n",
        "    for units in hidden_units:\n",
        "        x = layers.Dense(units, activation=tf.nn.gelu)(x)\n",
        "        x = layers.Dropout(dropout_rate)(x)\n",
        "    return x"
      ],
      "execution_count": 56,
      "outputs": []
    },
    {
      "cell_type": "code",
      "metadata": {
        "id": "yxNVYRKwcUai"
      },
      "source": [
        "def create_vit_classifier():\n",
        "    inputs = layers.Input(shape=input_shape)\n",
        "    # Augment data.\n",
        "    augmented = data_augmentation(inputs)\n",
        "    # Create patches.\n",
        "    patches = Patches(patch_size)(augmented)\n",
        "    # Encode patches.\n",
        "    encoded_patches = PatchEncoder(num_patches, projection_dim)(patches)\n",
        "\n",
        "    # Create multiple layers of the Transformer block.\n",
        "    for _ in range(transformer_layers):\n",
        "        # Layer normalization 1.\n",
        "        x1 = layers.LayerNormalization(epsilon=1e-6)(encoded_patches)\n",
        "        # Create a multi-head attention layer.\n",
        "        attention_output = layers.MultiHeadAttention(\n",
        "            num_heads=num_heads, key_dim=projection_dim, dropout=0.1\n",
        "        )(x1, x1)\n",
        "        # Skip connection 1.\n",
        "        x2 = layers.Add()([attention_output, encoded_patches])\n",
        "        # Layer normalization 2.\n",
        "        x3 = layers.LayerNormalization(epsilon=1e-6)(x2)\n",
        "        # MLP.\n",
        "        x3 = mlp(x3, hidden_units=transformer_units, dropout_rate=0.1)\n",
        "        # Skip connection 2.\n",
        "        encoded_patches = layers.Add()([x3, x2])\n",
        "\n",
        "    # Create a [batch_size, projection_dim] tensor.\n",
        "    representation = layers.LayerNormalization(epsilon=1e-6)(encoded_patches)\n",
        "    representation = layers.Flatten()(representation)\n",
        "    representation = layers.Dropout(0.5)(representation)\n",
        "    # Add MLP.\n",
        "    features = mlp(representation, hidden_units=mlp_head_units, dropout_rate=0.5)\n",
        "    # Classify outputs.\n",
        "    logits = layers.Dense(num_classes)(features)\n",
        "    # Create the Keras model.\n",
        "    model = keras.Model(inputs=inputs, outputs=logits)\n",
        "    return model"
      ],
      "execution_count": 57,
      "outputs": []
    },
    {
      "cell_type": "code",
      "metadata": {
        "id": "GwoBlI8BfrPj"
      },
      "source": [
        ""
      ],
      "execution_count": null,
      "outputs": []
    },
    {
      "cell_type": "code",
      "metadata": {
        "colab": {
          "base_uri": "https://localhost:8080/"
        },
        "id": "VpH851TocYhU",
        "outputId": "2c6d0663-1735-49ea-a0c6-62055014225d"
      },
      "source": [
        "def run_experiment(model):\n",
        "    optimizer = tfa.optimizers.AdamW(\n",
        "        learning_rate=learning_rate, weight_decay=weight_decay\n",
        "    )\n",
        "\n",
        "    model.compile(\n",
        "        optimizer=optimizer,\n",
        "        loss=keras.losses.SparseCategoricalCrossentropy(from_logits=True),\n",
        "        metrics=[\n",
        "            keras.metrics.SparseCategoricalAccuracy(name=\"accuracy\"),\n",
        "            keras.metrics.SparseTopKCategoricalAccuracy(5, name=\"top-5-accuracy\"),\n",
        "        ],\n",
        "    )\n",
        "\n",
        "    checkpoint_filepath = \"/tmp/checkpoint\"\n",
        "    checkpoint_callback = keras.callbacks.ModelCheckpoint(\n",
        "        checkpoint_filepath,\n",
        "        monitor=\"val_accuracy\",\n",
        "        save_best_only=True,\n",
        "        save_weights_only=True,\n",
        "    )\n",
        "\n",
        "    history = model.fit(\n",
        "        x=X_train,\n",
        "        y=y_train,\n",
        "        batch_size=batch_size,\n",
        "        epochs=num_epochs,\n",
        "        validation_split=0.1,\n",
        "        callbacks=[checkpoint_callback],\n",
        "    )\n",
        "\n",
        "    model.load_weights(checkpoint_filepath)\n",
        "    _, accuracy, top_5_accuracy = model.evaluate(X_test, y_test)\n",
        "    print(f\"Test accuracy: {round(accuracy * 100, 2)}%\")\n",
        "    print(f\"Test top 5 accuracy: {round(top_5_accuracy * 100, 2)}%\")\n",
        "\n",
        "    return history\n",
        "\n",
        "\n",
        "vit_classifier = create_vit_classifier()\n",
        "history = run_experiment(vit_classifier)"
      ],
      "execution_count": null,
      "outputs": [
        {
          "output_type": "stream",
          "name": "stdout",
          "text": [
            "Epoch 1/100\n",
            "  6/124 [>.............................] - ETA: 27:13 - loss: 6.5049 - accuracy: 0.0104 - top-5-accuracy: 0.0645"
          ]
        }
      ]
    },
    {
      "cell_type": "code",
      "metadata": {
        "id": "8TH8486GKY4e"
      },
      "source": [
        ""
      ],
      "execution_count": null,
      "outputs": []
    }
  ]
}