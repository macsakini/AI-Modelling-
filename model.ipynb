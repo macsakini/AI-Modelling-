{
  "nbformat": 4,
  "nbformat_minor": 0,
  "metadata": {
    "colab": {
      "name": "model.ipynb",
      "provenance": [],
      "collapsed_sections": [],
      "authorship_tag": "ABX9TyMk8aXkm+NZRGpWDkLwod8a",
      "include_colab_link": true
    },
    "kernelspec": {
      "name": "python3",
      "display_name": "Python 3"
    },
    "language_info": {
      "name": "python"
    }
  },
  "cells": [
    {
      "cell_type": "markdown",
      "metadata": {
        "id": "view-in-github",
        "colab_type": "text"
      },
      "source": [
        "<a href=\"https://colab.research.google.com/github/macsakini/Financial-Modelling/blob/main/model.ipynb\" target=\"_parent\"><img src=\"https://colab.research.google.com/assets/colab-badge.svg\" alt=\"Open In Colab\"/></a>"
      ]
    },
    {
      "cell_type": "code",
      "metadata": {
        "colab": {
          "base_uri": "https://localhost:8080/"
        },
        "id": "96o3T5pdavtR",
        "outputId": "afffd434-63f1-4684-b485-31725d7c09bc"
      },
      "source": [
        "!pip install -U tensorflow-addons"
      ],
      "execution_count": 2,
      "outputs": [
        {
          "output_type": "stream",
          "name": "stdout",
          "text": [
            "Collecting tensorflow-addons\n",
            "  Downloading tensorflow_addons-0.14.0-cp37-cp37m-manylinux_2_12_x86_64.manylinux2010_x86_64.whl (1.1 MB)\n",
            "\u001b[?25l\r\u001b[K     |▎                               | 10 kB 20.7 MB/s eta 0:00:01\r\u001b[K     |▋                               | 20 kB 22.1 MB/s eta 0:00:01\r\u001b[K     |▉                               | 30 kB 26.3 MB/s eta 0:00:01\r\u001b[K     |█▏                              | 40 kB 21.4 MB/s eta 0:00:01\r\u001b[K     |█▌                              | 51 kB 8.5 MB/s eta 0:00:01\r\u001b[K     |█▊                              | 61 kB 9.1 MB/s eta 0:00:01\r\u001b[K     |██                              | 71 kB 8.0 MB/s eta 0:00:01\r\u001b[K     |██▍                             | 81 kB 8.9 MB/s eta 0:00:01\r\u001b[K     |██▋                             | 92 kB 9.2 MB/s eta 0:00:01\r\u001b[K     |███                             | 102 kB 7.9 MB/s eta 0:00:01\r\u001b[K     |███▎                            | 112 kB 7.9 MB/s eta 0:00:01\r\u001b[K     |███▌                            | 122 kB 7.9 MB/s eta 0:00:01\r\u001b[K     |███▉                            | 133 kB 7.9 MB/s eta 0:00:01\r\u001b[K     |████▏                           | 143 kB 7.9 MB/s eta 0:00:01\r\u001b[K     |████▍                           | 153 kB 7.9 MB/s eta 0:00:01\r\u001b[K     |████▊                           | 163 kB 7.9 MB/s eta 0:00:01\r\u001b[K     |█████                           | 174 kB 7.9 MB/s eta 0:00:01\r\u001b[K     |█████▎                          | 184 kB 7.9 MB/s eta 0:00:01\r\u001b[K     |█████▋                          | 194 kB 7.9 MB/s eta 0:00:01\r\u001b[K     |██████                          | 204 kB 7.9 MB/s eta 0:00:01\r\u001b[K     |██████▏                         | 215 kB 7.9 MB/s eta 0:00:01\r\u001b[K     |██████▌                         | 225 kB 7.9 MB/s eta 0:00:01\r\u001b[K     |██████▉                         | 235 kB 7.9 MB/s eta 0:00:01\r\u001b[K     |███████                         | 245 kB 7.9 MB/s eta 0:00:01\r\u001b[K     |███████▍                        | 256 kB 7.9 MB/s eta 0:00:01\r\u001b[K     |███████▊                        | 266 kB 7.9 MB/s eta 0:00:01\r\u001b[K     |████████                        | 276 kB 7.9 MB/s eta 0:00:01\r\u001b[K     |████████▎                       | 286 kB 7.9 MB/s eta 0:00:01\r\u001b[K     |████████▋                       | 296 kB 7.9 MB/s eta 0:00:01\r\u001b[K     |████████▉                       | 307 kB 7.9 MB/s eta 0:00:01\r\u001b[K     |█████████▏                      | 317 kB 7.9 MB/s eta 0:00:01\r\u001b[K     |█████████▌                      | 327 kB 7.9 MB/s eta 0:00:01\r\u001b[K     |█████████▊                      | 337 kB 7.9 MB/s eta 0:00:01\r\u001b[K     |██████████                      | 348 kB 7.9 MB/s eta 0:00:01\r\u001b[K     |██████████▍                     | 358 kB 7.9 MB/s eta 0:00:01\r\u001b[K     |██████████▋                     | 368 kB 7.9 MB/s eta 0:00:01\r\u001b[K     |███████████                     | 378 kB 7.9 MB/s eta 0:00:01\r\u001b[K     |███████████▎                    | 389 kB 7.9 MB/s eta 0:00:01\r\u001b[K     |███████████▌                    | 399 kB 7.9 MB/s eta 0:00:01\r\u001b[K     |███████████▉                    | 409 kB 7.9 MB/s eta 0:00:01\r\u001b[K     |████████████▏                   | 419 kB 7.9 MB/s eta 0:00:01\r\u001b[K     |████████████▍                   | 430 kB 7.9 MB/s eta 0:00:01\r\u001b[K     |████████████▊                   | 440 kB 7.9 MB/s eta 0:00:01\r\u001b[K     |█████████████                   | 450 kB 7.9 MB/s eta 0:00:01\r\u001b[K     |█████████████▎                  | 460 kB 7.9 MB/s eta 0:00:01\r\u001b[K     |█████████████▋                  | 471 kB 7.9 MB/s eta 0:00:01\r\u001b[K     |██████████████                  | 481 kB 7.9 MB/s eta 0:00:01\r\u001b[K     |██████████████▏                 | 491 kB 7.9 MB/s eta 0:00:01\r\u001b[K     |██████████████▌                 | 501 kB 7.9 MB/s eta 0:00:01\r\u001b[K     |██████████████▉                 | 512 kB 7.9 MB/s eta 0:00:01\r\u001b[K     |███████████████                 | 522 kB 7.9 MB/s eta 0:00:01\r\u001b[K     |███████████████▍                | 532 kB 7.9 MB/s eta 0:00:01\r\u001b[K     |███████████████▊                | 542 kB 7.9 MB/s eta 0:00:01\r\u001b[K     |████████████████                | 552 kB 7.9 MB/s eta 0:00:01\r\u001b[K     |████████████████▎               | 563 kB 7.9 MB/s eta 0:00:01\r\u001b[K     |████████████████▋               | 573 kB 7.9 MB/s eta 0:00:01\r\u001b[K     |████████████████▉               | 583 kB 7.9 MB/s eta 0:00:01\r\u001b[K     |█████████████████▏              | 593 kB 7.9 MB/s eta 0:00:01\r\u001b[K     |█████████████████▌              | 604 kB 7.9 MB/s eta 0:00:01\r\u001b[K     |█████████████████▊              | 614 kB 7.9 MB/s eta 0:00:01\r\u001b[K     |██████████████████              | 624 kB 7.9 MB/s eta 0:00:01\r\u001b[K     |██████████████████▍             | 634 kB 7.9 MB/s eta 0:00:01\r\u001b[K     |██████████████████▋             | 645 kB 7.9 MB/s eta 0:00:01\r\u001b[K     |███████████████████             | 655 kB 7.9 MB/s eta 0:00:01\r\u001b[K     |███████████████████▎            | 665 kB 7.9 MB/s eta 0:00:01\r\u001b[K     |███████████████████▌            | 675 kB 7.9 MB/s eta 0:00:01\r\u001b[K     |███████████████████▉            | 686 kB 7.9 MB/s eta 0:00:01\r\u001b[K     |████████████████████▏           | 696 kB 7.9 MB/s eta 0:00:01\r\u001b[K     |████████████████████▍           | 706 kB 7.9 MB/s eta 0:00:01\r\u001b[K     |████████████████████▊           | 716 kB 7.9 MB/s eta 0:00:01\r\u001b[K     |█████████████████████           | 727 kB 7.9 MB/s eta 0:00:01\r\u001b[K     |█████████████████████▎          | 737 kB 7.9 MB/s eta 0:00:01\r\u001b[K     |█████████████████████▋          | 747 kB 7.9 MB/s eta 0:00:01\r\u001b[K     |██████████████████████          | 757 kB 7.9 MB/s eta 0:00:01\r\u001b[K     |██████████████████████▏         | 768 kB 7.9 MB/s eta 0:00:01\r\u001b[K     |██████████████████████▌         | 778 kB 7.9 MB/s eta 0:00:01\r\u001b[K     |██████████████████████▉         | 788 kB 7.9 MB/s eta 0:00:01\r\u001b[K     |███████████████████████         | 798 kB 7.9 MB/s eta 0:00:01\r\u001b[K     |███████████████████████▍        | 808 kB 7.9 MB/s eta 0:00:01\r\u001b[K     |███████████████████████▊        | 819 kB 7.9 MB/s eta 0:00:01\r\u001b[K     |████████████████████████        | 829 kB 7.9 MB/s eta 0:00:01\r\u001b[K     |████████████████████████▎       | 839 kB 7.9 MB/s eta 0:00:01\r\u001b[K     |████████████████████████▋       | 849 kB 7.9 MB/s eta 0:00:01\r\u001b[K     |████████████████████████▉       | 860 kB 7.9 MB/s eta 0:00:01\r\u001b[K     |█████████████████████████▏      | 870 kB 7.9 MB/s eta 0:00:01\r\u001b[K     |█████████████████████████▍      | 880 kB 7.9 MB/s eta 0:00:01\r\u001b[K     |█████████████████████████▊      | 890 kB 7.9 MB/s eta 0:00:01\r\u001b[K     |██████████████████████████      | 901 kB 7.9 MB/s eta 0:00:01\r\u001b[K     |██████████████████████████▎     | 911 kB 7.9 MB/s eta 0:00:01\r\u001b[K     |██████████████████████████▋     | 921 kB 7.9 MB/s eta 0:00:01\r\u001b[K     |███████████████████████████     | 931 kB 7.9 MB/s eta 0:00:01\r\u001b[K     |███████████████████████████▏    | 942 kB 7.9 MB/s eta 0:00:01\r\u001b[K     |███████████████████████████▌    | 952 kB 7.9 MB/s eta 0:00:01\r\u001b[K     |███████████████████████████▉    | 962 kB 7.9 MB/s eta 0:00:01\r\u001b[K     |████████████████████████████    | 972 kB 7.9 MB/s eta 0:00:01\r\u001b[K     |████████████████████████████▍   | 983 kB 7.9 MB/s eta 0:00:01\r\u001b[K     |████████████████████████████▊   | 993 kB 7.9 MB/s eta 0:00:01\r\u001b[K     |█████████████████████████████   | 1.0 MB 7.9 MB/s eta 0:00:01\r\u001b[K     |█████████████████████████████▎  | 1.0 MB 7.9 MB/s eta 0:00:01\r\u001b[K     |█████████████████████████████▋  | 1.0 MB 7.9 MB/s eta 0:00:01\r\u001b[K     |█████████████████████████████▉  | 1.0 MB 7.9 MB/s eta 0:00:01\r\u001b[K     |██████████████████████████████▏ | 1.0 MB 7.9 MB/s eta 0:00:01\r\u001b[K     |██████████████████████████████▌ | 1.1 MB 7.9 MB/s eta 0:00:01\r\u001b[K     |██████████████████████████████▊ | 1.1 MB 7.9 MB/s eta 0:00:01\r\u001b[K     |███████████████████████████████ | 1.1 MB 7.9 MB/s eta 0:00:01\r\u001b[K     |███████████████████████████████▍| 1.1 MB 7.9 MB/s eta 0:00:01\r\u001b[K     |███████████████████████████████▋| 1.1 MB 7.9 MB/s eta 0:00:01\r\u001b[K     |████████████████████████████████| 1.1 MB 7.9 MB/s eta 0:00:01\r\u001b[K     |████████████████████████████████| 1.1 MB 7.9 MB/s \n",
            "\u001b[?25hRequirement already satisfied: typeguard>=2.7 in /usr/local/lib/python3.7/dist-packages (from tensorflow-addons) (2.7.1)\n",
            "Installing collected packages: tensorflow-addons\n",
            "Successfully installed tensorflow-addons-0.14.0\n"
          ]
        }
      ]
    },
    {
      "cell_type": "code",
      "metadata": {
        "id": "8YkduvQdalSS"
      },
      "source": [
        "#import de[endancies]\n",
        "import numpy as np\n",
        "import tensorflow as tf\n",
        "from tensorflow import keras\n",
        "from tensorflow.keras import layers\n",
        "import tensorflow_addons as tfa"
      ],
      "execution_count": 3,
      "outputs": []
    },
    {
      "cell_type": "code",
      "metadata": {
        "colab": {
          "base_uri": "https://localhost:8080/"
        },
        "id": "ZhNc6VVfa36m",
        "outputId": "0ed2c763-2890-4deb-b36d-94d4aba8eca2"
      },
      "source": [
        "num_classes = 100\n",
        "input_shape = (32, 32, 3)\n",
        "\n",
        "(x_train, y_train), (x_test, y_test) = keras.datasets.cifar100.load_data()\n",
        "\n",
        "print(f\"x_train shape: {x_train.shape} - y_train shape: {y_train.shape}\")\n",
        "print(f\"x_test shape: {x_test.shape} - y_test shape: {y_test.shape}\")"
      ],
      "execution_count": 17,
      "outputs": [
        {
          "output_type": "stream",
          "name": "stdout",
          "text": [
            "x_train shape: (50000, 32, 32, 3) - y_train shape: (50000, 1)\n",
            "x_test shape: (10000, 32, 32, 3) - y_test shape: (10000, 1)\n"
          ]
        }
      ]
    },
    {
      "cell_type": "code",
      "metadata": {
        "id": "aBpG6bVhaofb"
      },
      "source": [
        "learning_rate = 0.001\n",
        "weight_decay = 0.0001\n",
        "batch_size = 256\n",
        "num_epochs = 100\n",
        "image_size = 72  # We'll resize input images to this size\n",
        "patch_size = 6  # Size of the patches to be extract from the input images\n",
        "num_patches = (image_size // patch_size) ** 2\n",
        "projection_dim = 64\n",
        "num_heads = 4\n",
        "transformer_units = [\n",
        "    projection_dim * 2,\n",
        "    projection_dim,\n",
        "]  # Size of the transformer layers\n",
        "transformer_layers = 8\n",
        "mlp_head_units = [2048, 1024]  # Size of the dense layers of the final classifier"
      ],
      "execution_count": 6,
      "outputs": []
    },
    {
      "cell_type": "code",
      "metadata": {
        "id": "EAMyb39NbWe_"
      },
      "source": [
        "class Patches(layers.Layer):\n",
        "    def __init__(self, patch_size):\n",
        "        super(Patches, self).__init__()\n",
        "        self.patch_size = patch_size\n",
        "\n",
        "    def call(self, images):\n",
        "        batch_size = tf.shape(images)[0]\n",
        "        patches = tf.image.extract_patches(\n",
        "            images=images,\n",
        "            sizes=[1, self.patch_size, self.patch_size, 1],\n",
        "            strides=[1, self.patch_size, self.patch_size, 1],\n",
        "            rates=[1, 1, 1, 1],\n",
        "            padding=\"VALID\",\n",
        "        )\n",
        "        patch_dims = patches.shape[-1]\n",
        "        patches = tf.reshape(patches, [batch_size, -1, patch_dims])\n",
        "        return patches"
      ],
      "execution_count": 15,
      "outputs": []
    },
    {
      "cell_type": "code",
      "metadata": {
        "colab": {
          "base_uri": "https://localhost:8080/",
          "height": 547
        },
        "id": "NshbytYobRHh",
        "outputId": "dcef2e12-7bce-4e42-d417-a2b999533ef8"
      },
      "source": [
        "import matplotlib.pyplot as plt\n",
        "\n",
        "plt.figure(figsize=(4, 4))\n",
        "image = x_train[np.random.choice(range(x_train.shape[0]))]\n",
        "plt.imshow(image.astype(\"uint8\"))\n",
        "plt.axis(\"off\")\n",
        "\n",
        "resized_image = tf.image.resize(\n",
        "    tf.convert_to_tensor([image]), size=(image_size, image_size)\n",
        ")\n",
        "patches = Patches(patch_size)(resized_image)\n",
        "print(f\"Image size: {image_size} X {image_size}\")\n",
        "print(f\"Patch size: {patch_size} X {patch_size}\")\n",
        "print(f\"Patches per image: {patches.shape[1]}\")\n",
        "print(f\"Elements per patch: {patches.shape[-1]}\")\n",
        "\n",
        "n = int(np.sqrt(patches.shape[1]))\n",
        "plt.figure(figsize=(4, 4))\n",
        "for i, patch in enumerate(patches[0]):\n",
        "    ax = plt.subplot(n, n, i + 1)\n",
        "    patch_img = tf.reshape(patch, (patch_size, patch_size, 3))\n",
        "    plt.imshow(patch_img.numpy().astype(\"uint8\"))\n",
        "    plt.axis(\"off\")"
      ],
      "execution_count": 28,
      "outputs": [
        {
          "output_type": "stream",
          "name": "stdout",
          "text": [
            "Image size: 72 X 72\n",
            "Patch size: 6 X 6\n",
            "Patches per image: 144\n",
            "Elements per patch: 108\n"
          ]
        },
        {
          "output_type": "display_data",
          "data": {
            "image/png": "[encoded data removed]",
            "text/plain": [
              "<Figure size 288x288 with 1 Axes>"
            ]
          },
          "metadata": {
            "needs_background": "light"
          }
        },
        {
          "output_type": "display_data",
          "data": {
            "image/png": "[encoded data removed]",
            "text/plain": [
              "<Figure size 288x288 with 144 Axes>"
            ]
          },
          "metadata": {
            "needs_background": "light"
          }
        }
      ]
    },
    {
      "cell_type": "code",
      "metadata": {
        "id": "JxzpwRy9dO0G"
      },
      "source": [
        "import matplotlib.pyplot as plt\n",
        "from sklearn.model_selection import train_test_split\n",
        "from sklearn.neural_network import MLPClassifier\n",
        "from sklearn.metrics import accuracy_score, confusion_matrix\n",
        "from sklearn.decomposition import PCA"
      ],
      "execution_count": 55,
      "outputs": []
    },
    {
      "cell_type": "code",
      "metadata": {
        "colab": {
          "base_uri": "https://localhost:8080/"
        },
        "id": "T1I1cb3LiE2t",
        "outputId": "79411484-7d71-4b26-e0be-8ffb81b5e6b3"
      },
      "source": [
        "x_flat = np.array(x_train[0]).reshape((3072))\n",
        "print(x_flat.shape)"
      ],
      "execution_count": 89,
      "outputs": [
        {
          "output_type": "stream",
          "name": "stdout",
          "text": [
            "(3072,)\n"
          ]
        }
      ]
    },
    {
      "cell_type": "code",
      "metadata": {
        "colab": {
          "base_uri": "https://localhost:8080/",
          "height": 283
        },
        "id": "ukSy15UJiXt-",
        "outputId": "ff7adb50-9931-4adb-d4b3-4440e4ca6b85"
      },
      "source": [
        "plt.imshow(x_train[0])\n",
        "x_train[0].shape"
      ],
      "execution_count": 65,
      "outputs": [
        {
          "output_type": "execute_result",
          "data": {
            "text/plain": [
              "(32, 32, 3)"
            ]
          },
          "metadata": {},
          "execution_count": 65
        },
        {
          "output_type": "display_data",
          "data": {
            "image/png": "[encoded data removed]",
            "text/plain": [
              "<Figure size 432x288 with 1 Axes>"
            ]
          },
          "metadata": {
            "needs_background": "light"
          }
        }
      ]
    },
    {
      "cell_type": "code",
      "metadata": {
        "id": "SWpQwc9-iju6"
      },
      "source": [
        "pca_dims = PCA()\n",
        "pca_dims.fit(x_flat)\n",
        "cumsum = np.cumsum(pca_dims.explained_variance_ratio_)\n",
        "d = np.argmax(cumsum >= 0.95) + 1"
      ],
      "execution_count": 77,
      "outputs": []
    },
    {
      "cell_type": "code",
      "metadata": {
        "colab": {
          "base_uri": "https://localhost:8080/"
        },
        "id": "58mIuHWbir4m",
        "outputId": "2f21bdb6-4b13-40a6-fbb7-2b6d5a13017f"
      },
      "source": [
        "d"
      ],
      "execution_count": 72,
      "outputs": [
        {
          "output_type": "execute_result",
          "data": {
            "text/plain": [
              "1"
            ]
          },
          "metadata": {},
          "execution_count": 72
        }
      ]
    },
    {
      "cell_type": "code",
      "metadata": {
        "colab": {
          "base_uri": "https://localhost:8080/"
        },
        "id": "ln0Tat5miygK",
        "outputId": "e1ec34eb-5eca-4927-ca8f-5896273b44f7"
      },
      "source": [
        "pca = PCA(n_components=d)\n",
        "x_reduced = pca.fit_transform(x_flat)\n",
        "X_recovered = pca.inverse_transform(x_reduced)\n",
        "print(\"reduced shape: \" + str(X_reduced.shape))\n",
        "print(\"recovered shape: \" + str(X_recovered.shape))"
      ],
      "execution_count": 80,
      "outputs": [
        {
          "output_type": "stream",
          "name": "stdout",
          "text": [
            "reduced shape: (3072, 1)\n",
            "recovered shape: (3072, 1)\n"
          ]
        }
      ]
    },
    {
      "cell_type": "code",
      "metadata": {
        "colab": {
          "base_uri": "https://localhost:8080/",
          "height": 495
        },
        "id": "epR1ixq-i4k7",
        "outputId": "66ce4a5b-83c9-47b1-8e32-ad57754e8bd2"
      },
      "source": [
        "f = plt.figure()\n",
        "f.add_subplot(1,2, 1)\n",
        "plt.title(\"original\")\n",
        "plt.imshow(x_flat.reshape((32,32)))\n",
        "f.add_subplot(1,2, 2)\n",
        "\n",
        "plt.title(\"PCA compressed\")\n",
        "plt.imshow(X_recovered[0].reshape((64,64)))\n",
        "plt.show(block=True)"
      ],
      "execution_count": 83,
      "outputs": [
        {
          "output_type": "error",
          "ename": "ValueError",
          "evalue": "ignored",
          "traceback": [
            "\u001b[0;31m---------------------------------------------------------------------------\u001b[0m",
            "\u001b[0;31mValueError\u001b[0m                                Traceback (most recent call last)",
            "\u001b[0;32m<ipython-input-83-df9de10a5b98>\u001b[0m in \u001b[0;36m<module>\u001b[0;34m()\u001b[0m\n\u001b[1;32m      2\u001b[0m \u001b[0mf\u001b[0m\u001b[0;34m.\u001b[0m\u001b[0madd_subplot\u001b[0m\u001b[0;34m(\u001b[0m\u001b[0;36m1\u001b[0m\u001b[0;34m,\u001b[0m\u001b[0;36m2\u001b[0m\u001b[0;34m,\u001b[0m \u001b[0;36m1\u001b[0m\u001b[0;34m)\u001b[0m\u001b[0;34m\u001b[0m\u001b[0;34m\u001b[0m\u001b[0m\n\u001b[1;32m      3\u001b[0m \u001b[0mplt\u001b[0m\u001b[0;34m.\u001b[0m\u001b[0mtitle\u001b[0m\u001b[0;34m(\u001b[0m\u001b[0;34m\"original\"\u001b[0m\u001b[0;34m)\u001b[0m\u001b[0;34m\u001b[0m\u001b[0;34m\u001b[0m\u001b[0m\n\u001b[0;32m----> 4\u001b[0;31m \u001b[0mplt\u001b[0m\u001b[0;34m.\u001b[0m\u001b[0mimshow\u001b[0m\u001b[0;34m(\u001b[0m\u001b[0mx_flat\u001b[0m\u001b[0;34m.\u001b[0m\u001b[0mreshape\u001b[0m\u001b[0;34m(\u001b[0m\u001b[0;34m(\u001b[0m\u001b[0;36m32\u001b[0m\u001b[0;34m,\u001b[0m\u001b[0;36m32\u001b[0m\u001b[0;34m)\u001b[0m\u001b[0;34m)\u001b[0m\u001b[0;34m)\u001b[0m\u001b[0;34m\u001b[0m\u001b[0;34m\u001b[0m\u001b[0m\n\u001b[0m\u001b[1;32m      5\u001b[0m \u001b[0mf\u001b[0m\u001b[0;34m.\u001b[0m\u001b[0madd_subplot\u001b[0m\u001b[0;34m(\u001b[0m\u001b[0;36m1\u001b[0m\u001b[0;34m,\u001b[0m\u001b[0;36m2\u001b[0m\u001b[0;34m,\u001b[0m \u001b[0;36m2\u001b[0m\u001b[0;34m)\u001b[0m\u001b[0;34m\u001b[0m\u001b[0;34m\u001b[0m\u001b[0m\n\u001b[1;32m      6\u001b[0m \u001b[0;34m\u001b[0m\u001b[0m\n",
            "\u001b[0;31mValueError\u001b[0m: cannot reshape array of size 3072 into shape (32,32)"
          ]
        },
        {
          "output_type": "display_data",
          "data": {
            "image/png": "[encoded data removed]",
            "text/plain": [
              "<Figure size 432x288 with 1 Axes>"
            ]
          },
          "metadata": {
            "needs_background": "light"
          }
        }
      ]
    },
    {
      "cell_type": "code",
      "metadata": {
        "id": "AtN4F119d4w7"
      },
      "source": [
        "import tensorflow_hub as hub\n",
        "import pandas as pd\n",
        "\n",
        "# Loading model directly from TensorFlow Hub\n",
        "detector = hub.load(\"https://tfhub.dev/tensorflow/efficientdet/lite2/detection/1\")"
      ],
      "execution_count": 43,
      "outputs": []
    },
    {
      "cell_type": "code",
      "metadata": {
        "colab": {
          "base_uri": "https://localhost:8080/"
        },
        "id": "ZjcBEqBjeDur",
        "outputId": "d14f6974-e1d1-4ff9-d255-8e64f1ca3400"
      },
      "source": [
        "detected = detector(rgb_tensor)\n",
        "print(detected)"
      ],
      "execution_count": 46,
      "outputs": [
        {
          "output_type": "stream",
          "name": "stdout",
          "text": [
            "(<tf.Tensor: shape=(1, 100, 4), dtype=float32, numpy=\n",
            "array([[[4.58283567e+00, 1.41907287e+00, 3.19790230e+01, 3.19275360e+01],\n",
            "        [1.29255915e+01, 1.40594425e+01, 3.18646431e+01, 3.18621082e+01],\n",
            "        [7.21502066e+00, 0.00000000e+00, 3.10773525e+01, 8.32457352e+00],\n",
            "        [8.91738129e+00, 7.70593166e+00, 3.18075886e+01, 3.14441929e+01],\n",
            "        [1.34376268e+01, 1.64140415e+01, 2.38580551e+01, 2.76790695e+01],\n",
            "        [2.57598839e+01, 7.69255534e-02, 3.17262726e+01, 6.95225620e+00],\n",
            "        [1.83139038e+01, 3.49643171e-01, 3.18104038e+01, 1.43690186e+01],\n",
            "        [8.85235965e-02, 1.61994858e+01, 7.04362965e+00, 3.16919098e+01],\n",
            "        [7.87499905e+00, 2.61002274e+01, 2.68342476e+01, 3.19236660e+01],\n",
            "        [1.92322597e-01, 3.47244215e+00, 6.58610249e+00, 1.27809343e+01],\n",
            "        [1.39273863e+01, 2.20517502e+01, 1.90695133e+01, 2.73556538e+01],\n",
            "        [2.39192028e+01, 1.83397884e+01, 3.17833443e+01, 2.38192024e+01],\n",
            "        [2.45508614e+01, 1.39022274e+01, 3.17634335e+01, 1.93432388e+01],\n",
            "        [8.00951195e+00, 3.50448847e+00, 2.48333225e+01, 1.92241917e+01],\n",
            "        [2.78850021e+01, 1.06409620e-02, 3.19188995e+01, 3.77269220e+00],\n",
            "        [9.64192003e-02, 1.12106905e+01, 6.28444862e+00, 1.82663040e+01],\n",
            "        [7.19168559e-02, 5.15005961e-02, 7.17125082e+00, 5.92299843e+00],\n",
            "        [1.29601307e+01, 2.84976826e+01, 2.15352917e+01, 3.19731503e+01],\n",
            "        [4.52449131e+00, 1.46185637e+01, 6.57501745e+00, 1.64139290e+01],\n",
            "        [6.91870880e+00, 2.70467434e+01, 1.47887249e+01, 3.20000000e+01],\n",
            "        [2.26491146e+01, 2.84010849e+01, 3.18051720e+01, 3.19236774e+01],\n",
            "        [2.51498127e+01, 5.06915903e+00, 3.17578888e+01, 1.15277233e+01],\n",
            "        [1.85243282e+01, 1.77964573e+01, 3.15814705e+01, 3.06923618e+01],\n",
            "        [7.03138018e+00, 1.83973327e-01, 2.89931602e+01, 7.79368496e+00],\n",
            "        [1.38224840e+01, 1.97375927e+01, 2.06209602e+01, 2.76141109e+01],\n",
            "        [2.51870689e+01, 1.93681393e+01, 2.98438911e+01, 2.11307907e+01],\n",
            "        [4.49022576e-02, 2.60980892e+01, 6.30782795e+00, 3.18835030e+01],\n",
            "        [5.51607752e+00, 6.77192926e+00, 1.84071751e+01, 2.30048904e+01],\n",
            "        [1.42048702e-01, 1.94636784e+01, 5.44744587e+00, 2.27724552e+01],\n",
            "        [2.11899166e+01, 8.44891357e+00, 3.17796478e+01, 1.99711094e+01],\n",
            "        [1.38454831e+00, 2.46743145e+01, 1.56935930e+01, 3.18387146e+01],\n",
            "        [1.36994724e+01, 2.49607468e+01, 3.13603535e+01, 3.17515011e+01],\n",
            "        [2.49123592e-02, 9.57979870e+00, 2.28964305e+00, 1.35706997e+01],\n",
            "        [1.05918072e-01, 2.46721053e+00, 6.93556261e+00, 2.01736851e+01],\n",
            "        [2.32815599e+00, 1.45993404e+01, 6.56190538e+00, 1.65191631e+01],\n",
            "        [1.77945900e+01, 0.00000000e+00, 2.93849812e+01, 3.19824886e+00],\n",
            "        [2.84746513e+01, 2.35314121e+01, 3.18978138e+01, 3.18305931e+01],\n",
            "        [2.27986660e+01, 1.81101704e+01, 3.16323757e+01, 2.23821487e+01],\n",
            "        [1.30513182e+01, 3.08160706e+01, 2.54868965e+01, 3.18573513e+01],\n",
            "        [0.00000000e+00, 2.13623428e+01, 3.87100673e+00, 3.14998856e+01],\n",
            "        [6.73893118e+00, 2.35395983e-01, 1.55716867e+01, 8.13163948e+00],\n",
            "        [2.31902332e+01, 1.03464260e+01, 3.17433891e+01, 1.48498774e+01],\n",
            "        [2.70489998e+01, 3.03196049e+01, 3.18330345e+01, 3.19102345e+01],\n",
            "        [2.67799873e+01, 1.63209103e-02, 3.18329487e+01, 4.80761242e+00],\n",
            "        [3.16346735e-01, 2.04191818e+01, 2.90986705e+00, 2.25238361e+01],\n",
            "        [1.19040251e+01, 1.15194559e+01, 2.29808407e+01, 2.40549183e+01],\n",
            "        [8.79031643e-02, 3.06551723e+01, 9.17529774e+00, 3.19501553e+01],\n",
            "        [4.85691738e+00, 1.61700363e+01, 1.32721567e+01, 3.13796482e+01],\n",
            "        [0.00000000e+00, 0.00000000e+00, 9.82486916e+00, 3.83458352e+00],\n",
            "        [5.88235044e+00, 2.50120461e-01, 3.18841648e+01, 1.53943682e+01],\n",
            "        [2.89501286e+01, 1.32217808e+01, 3.18252678e+01, 1.96390762e+01],\n",
            "        [7.60307312e-02, 1.61606255e+01, 6.17200804e+00, 2.29598503e+01],\n",
            "        [1.11008406e+00, 6.60223055e+00, 6.78381824e+00, 1.04299870e+01],\n",
            "        [2.18125515e+01, 4.52428341e+00, 2.55429287e+01, 1.45639544e+01],\n",
            "        [3.00480919e+01, 0.00000000e+00, 3.18999958e+01, 3.67593241e+00],\n",
            "        [8.08922648e-01, 9.93303204e+00, 6.42529202e+00, 1.37913189e+01],\n",
            "        [3.15476875e+01, 0.00000000e+00, 3.19128876e+01, 4.33838558e+00],\n",
            "        [6.55770969e+00, 3.08156738e+01, 1.80382271e+01, 3.18850269e+01],\n",
            "        [2.12637767e-01, 3.11119914e+00, 5.48389673e+00, 7.16384315e+00],\n",
            "        [1.39050522e+01, 1.75606976e+01, 2.73156452e+01, 2.97673073e+01],\n",
            "        [6.50705621e-02, 3.16951694e+01, 5.65009642e+00, 3.19015388e+01],\n",
            "        [2.50867882e+01, 6.28056145e+00, 3.17480965e+01, 1.09463911e+01],\n",
            "        [2.27737103e+01, 2.91197929e+01, 2.87487049e+01, 3.18065224e+01],\n",
            "        [2.06866379e+01, 2.88513750e-02, 3.18183784e+01, 6.50266171e+00],\n",
            "        [2.09557682e-01, 1.33502321e+01, 6.38622904e+00, 1.70012093e+01],\n",
            "        [0.00000000e+00, 0.00000000e+00, 1.12848787e+01, 3.13045235e+01],\n",
            "        [1.55811014e+01, 1.30596552e+01, 3.14927540e+01, 2.15018349e+01],\n",
            "        [1.06245060e+01, 2.72520790e+01, 1.50218620e+01, 3.12501945e+01],\n",
            "        [3.77452803e+00, 3.17751846e+01, 1.21119909e+01, 3.19329338e+01],\n",
            "        [6.89006853e+00, 0.00000000e+00, 1.07564201e+01, 8.85475063e+00],\n",
            "        [3.01066170e+01, 1.83082924e+01, 3.19034996e+01, 2.32467213e+01],\n",
            "        [2.92246895e+01, 1.58038996e-02, 3.19398041e+01, 4.18320328e-01],\n",
            "        [5.53331673e-01, 2.86979752e+01, 1.11073256e+01, 3.20000000e+01],\n",
            "        [1.29470289e-01, 6.25137615e+00, 3.74336314e+00, 1.03373442e+01],\n",
            "        [2.92573242e+01, 3.15731754e+01, 3.18251991e+01, 3.19558487e+01],\n",
            "        [3.01149559e+01, 2.73626118e+01, 3.18771324e+01, 3.19559994e+01],\n",
            "        [1.38893061e+01, 1.27128467e-01, 3.00141315e+01, 9.44249511e-01],\n",
            "        [1.93369522e+01, 5.39881992e+00, 2.29305973e+01, 1.47079296e+01],\n",
            "        [6.75400782e+00, 2.30829868e+01, 1.36404896e+01, 2.76313705e+01],\n",
            "        [1.62357216e+01, 3.16769924e+01, 2.40511036e+01, 3.19075089e+01],\n",
            "        [4.83633876e-01, 9.88246426e-02, 8.87350941e+00, 1.31033874e+00],\n",
            "        [1.35573626e+01, 2.74567833e+01, 1.98460808e+01, 3.19157982e+01],\n",
            "        [6.35515070e+00, 3.16598606e+01, 1.35500364e+01, 3.18730526e+01],\n",
            "        [2.27110386e+01, 3.16926460e+01, 3.01495209e+01, 3.19152622e+01],\n",
            "        [1.05174884e-01, 2.82461052e+01, 3.56171656e+00, 3.18984795e+01],\n",
            "        [6.19798088e+00, 2.01799145e+01, 9.28165817e+00, 3.12740631e+01],\n",
            "        [2.43634548e+01, 1.54670534e+01, 3.10298634e+01, 1.93780003e+01],\n",
            "        [1.47804117e+01, 2.40216637e+01, 1.84970226e+01, 2.69036388e+01],\n",
            "        [3.72358076e-02, 0.00000000e+00, 7.34731007e+00, 1.68628603e-01],\n",
            "        [1.12583399e+01, 2.08640194e+01, 1.46588898e+01, 2.33289814e+01],\n",
            "        [3.01996479e+01, 7.32720327e+00, 3.18963718e+01, 1.23969841e+01],\n",
            "        [7.46607113e+00, 2.16932335e+01, 9.50265884e+00, 2.33462620e+01],\n",
            "        [2.62482929e+01, 2.30791923e-02, 2.90524654e+01, 2.89865828e+00],\n",
            "        [1.74162903e+01, 1.83269005e+01, 2.45235004e+01, 2.63720798e+01],\n",
            "        [1.03671770e+01, 0.00000000e+00, 2.07671471e+01, 3.73574853e+00],\n",
            "        [3.83054161e+00, 2.38427868e+01, 6.74532795e+00, 2.78437424e+01],\n",
            "        [1.60151482e+01, 3.10362816e+01, 3.05887356e+01, 3.19235115e+01],\n",
            "        [3.17298222e+01, 1.78429909e+01, 3.19361343e+01, 2.50251732e+01],\n",
            "        [2.87964363e+01, 1.81958847e+01, 3.18700485e+01, 2.78859272e+01],\n",
            "        [2.86548691e+01, 2.34181595e+00, 3.19807091e+01, 9.83058167e+00]]],\n",
            "      dtype=float32)>, <tf.Tensor: shape=(1, 100), dtype=float32, numpy=\n",
            "array([[0.3823064 , 0.22214381, 0.11479084, 0.06950238, 0.05858053,\n",
            "        0.05751989, 0.04902959, 0.04683714, 0.0454725 , 0.04171178,\n",
            "        0.04045891, 0.03972973, 0.03665283, 0.03653493, 0.03582112,\n",
            "        0.0316889 , 0.03079224, 0.02851656, 0.02827696, 0.02757451,\n",
            "        0.02647692, 0.02575319, 0.02563557, 0.02137173, 0.02033445,\n",
            "        0.02012597, 0.02008221, 0.02004574, 0.0178508 , 0.01723971,\n",
            "        0.01717679, 0.01674753, 0.01628686, 0.01560945, 0.0149337 ,\n",
            "        0.01474387, 0.01438713, 0.01387179, 0.01350875, 0.01347315,\n",
            "        0.01323273, 0.01278175, 0.01256917, 0.01181446, 0.01178057,\n",
            "        0.01108327, 0.01097485, 0.01091113, 0.01077004, 0.01061583,\n",
            "        0.01044979, 0.01034879, 0.01028836, 0.01024963, 0.01015257,\n",
            "        0.00961524, 0.00945299, 0.00937186, 0.00913937, 0.00875043,\n",
            "        0.00870344, 0.00865131, 0.00841532, 0.00837756, 0.00837226,\n",
            "        0.00825275, 0.00807078, 0.00795358, 0.00772262, 0.00766506,\n",
            "        0.00764312, 0.00761151, 0.00754652, 0.00750204, 0.0073301 ,\n",
            "        0.00721186, 0.00715069, 0.00712463, 0.00708875, 0.00684811,\n",
            "        0.00679265, 0.00675827, 0.00675721, 0.00658025, 0.00648875,\n",
            "        0.00642053, 0.00631899, 0.0062676 , 0.00620038, 0.00619484,\n",
            "        0.00618262, 0.00615095, 0.00597329, 0.00593161, 0.00591664,\n",
            "        0.00588232, 0.00586527, 0.00585111, 0.00580289, 0.00578754]],\n",
            "      dtype=float32)>, <tf.Tensor: shape=(1, 100), dtype=float32, numpy=\n",
            "array([[17., 17., 62., 17., 17., 62., 62., 72., 17.,  1., 17., 57., 47.,\n",
            "        17., 62.,  1.,  1.,  1., 44.,  1., 62., 62., 17., 62., 17., 57.,\n",
            "         1., 17., 44., 87.,  1., 17., 10.,  1., 44., 62., 67., 57.,  1.,\n",
            "        72., 15., 44., 62., 62., 44., 17.,  1., 67., 62., 62., 47.,  1.,\n",
            "         1., 62., 62.,  1., 62.,  1.,  1., 17.,  1., 62., 51., 62.,  1.,\n",
            "        15., 32.,  1.,  1., 67., 16., 62.,  1.,  1., 62., 62.,  1., 67.,\n",
            "        62.,  1.,  1.,  1.,  1.,  1.,  1., 67., 44.,  1.,  1., 44., 47.,\n",
            "        37., 67., 17.,  1.,  1.,  1., 57., 61., 62.]], dtype=float32)>, <tf.Tensor: shape=(1,), dtype=int32, numpy=array([100], dtype=int32)>)\n"
          ]
        }
      ]
    },
    {
      "cell_type": "code",
      "metadata": {
        "id": "7R5wKhcAft_S"
      },
      "source": [
        "# Augment data.\n",
        "augmented = data_augmentation(num_detections)\n",
        "    # Create patches.\n",
        "patches = Patches(patch_size)(augmented)\n",
        "    # Encode patches.\n",
        "encoded_patches = PatchEncoder(num_patches, projection_dim)(patches)\n"
      ],
      "execution_count": 51,
      "outputs": []
    },
    {
      "cell_type": "code",
      "metadata": {
        "colab": {
          "base_uri": "https://localhost:8080/"
        },
        "id": "z6aNBL3-gEev",
        "outputId": "b1dd4927-a485-4ed5-8d7a-c2a5678e5f4b"
      },
      "source": [
        "# Creating prediction\n",
        "boxes, scores, classes, num_detections = detector(rgb_tensor)\n",
        "print(scores)"
      ],
      "execution_count": 54,
      "outputs": [
        {
          "output_type": "stream",
          "name": "stdout",
          "text": [
            "tf.Tensor(\n",
            "[[0.3823064  0.22214381 0.11479084 0.06950238 0.05858053 0.05751989\n",
            "  0.04902959 0.04683714 0.0454725  0.04171178 0.04045891 0.03972973\n",
            "  0.03665283 0.03653493 0.03582112 0.0316889  0.03079224 0.02851656\n",
            "  0.02827696 0.02757451 0.02647692 0.02575319 0.02563557 0.02137173\n",
            "  0.02033445 0.02012597 0.02008221 0.02004574 0.0178508  0.01723971\n",
            "  0.01717679 0.01674753 0.01628686 0.01560945 0.0149337  0.01474387\n",
            "  0.01438713 0.01387179 0.01350875 0.01347315 0.01323273 0.01278175\n",
            "  0.01256917 0.01181446 0.01178057 0.01108327 0.01097485 0.01091113\n",
            "  0.01077004 0.01061583 0.01044979 0.01034879 0.01028836 0.01024963\n",
            "  0.01015257 0.00961524 0.00945299 0.00937186 0.00913937 0.00875043\n",
            "  0.00870344 0.00865131 0.00841532 0.00837756 0.00837226 0.00825275\n",
            "  0.00807078 0.00795358 0.00772262 0.00766506 0.00764312 0.00761151\n",
            "  0.00754652 0.00750204 0.0073301  0.00721186 0.00715069 0.00712463\n",
            "  0.00708875 0.00684811 0.00679265 0.00675827 0.00675721 0.00658025\n",
            "  0.00648875 0.00642053 0.00631899 0.0062676  0.00620038 0.00619484\n",
            "  0.00618262 0.00615095 0.00597329 0.00593161 0.00591664 0.00588232\n",
            "  0.00586527 0.00585111 0.00580289 0.00578754]], shape=(1, 100), dtype=float32)\n"
          ]
        }
      ]
    },
    {
      "cell_type": "code",
      "metadata": {
        "id": "ULn8NPNAbun1"
      },
      "source": [
        "def mlp(x, hidden_units, dropout_rate):\n",
        "    for units in hidden_units:\n",
        "        x = layers.Dense(units, activation=tf.nn.gelu)(x)\n",
        "        x = layers.Dropout(dropout_rate)(x)\n",
        "    return x"
      ],
      "execution_count": 19,
      "outputs": []
    },
    {
      "cell_type": "code",
      "metadata": {
        "id": "uLUx6w5mbndl"
      },
      "source": [
        "data_augmentation = keras.Sequential(\n",
        "    [\n",
        "        layers.Normalization(),\n",
        "        layers.Resizing(image_size, image_size),\n",
        "        layers.RandomFlip(\"horizontal\"),\n",
        "        layers.RandomRotation(factor=0.02),\n",
        "        layers.RandomZoom(\n",
        "            height_factor=0.2, width_factor=0.2\n",
        "        ),\n",
        "    ],\n",
        "    name=\"data_augmentation\",\n",
        ")\n",
        "# Compute the mean and the variance of the training data for normalization.\n",
        "data_augmentation.layers[0].adapt(x_train)"
      ],
      "execution_count": 24,
      "outputs": []
    },
    {
      "cell_type": "code",
      "metadata": {
        "id": "6b3DgGtgcS_1"
      },
      "source": [
        "class PatchEncoder(layers.Layer):\n",
        "    def __init__(self, num_patches, projection_dim):\n",
        "        super(PatchEncoder, self).__init__()\n",
        "        self.num_patches = num_patches\n",
        "        self.projection = layers.Dense(units=projection_dim)\n",
        "        self.position_embedding = layers.Embedding(\n",
        "            input_dim=num_patches, output_dim=projection_dim\n",
        "        )\n",
        "\n",
        "    def call(self, patch):\n",
        "        positions = tf.range(start=0, limit=self.num_patches, delta=1)\n",
        "        encoded = self.projection(patch) + self.position_embedding(positions)\n",
        "        return encoded"
      ],
      "execution_count": 20,
      "outputs": []
    },
    {
      "cell_type": "code",
      "metadata": {
        "id": "yxNVYRKwcUai"
      },
      "source": [
        "def create_vit_classifier():\n",
        "    inputs = layers.Input(shape=input_shape)\n",
        "    # Augment data.\n",
        "    augmented = data_augmentation(inputs)\n",
        "    # Create patches.\n",
        "    patches = Patches(patch_size)(augmented)\n",
        "    # Encode patches.\n",
        "    encoded_patches = PatchEncoder(num_patches, projection_dim)(patches)\n",
        "\n",
        "    # Create multiple layers of the Transformer block.\n",
        "    for _ in range(transformer_layers):\n",
        "        # Layer normalization 1.\n",
        "        x1 = layers.LayerNormalization(epsilon=1e-6)(encoded_patches)\n",
        "        # Create a multi-head attention layer.\n",
        "        attention_output = layers.MultiHeadAttention(\n",
        "            num_heads=num_heads, key_dim=projection_dim, dropout=0.1\n",
        "        )(x1, x1)\n",
        "        # Skip connection 1.\n",
        "        x2 = layers.Add()([attention_output, encoded_patches])\n",
        "        # Layer normalization 2.\n",
        "        x3 = layers.LayerNormalization(epsilon=1e-6)(x2)\n",
        "        # MLP.\n",
        "        x3 = mlp(x3, hidden_units=transformer_units, dropout_rate=0.1)\n",
        "        # Skip connection 2.\n",
        "        encoded_patches = layers.Add()([x3, x2])\n",
        "\n",
        "    # Create a [batch_size, projection_dim] tensor.\n",
        "    representation = layers.LayerNormalization(epsilon=1e-6)(encoded_patches)\n",
        "    representation = layers.Flatten()(representation)\n",
        "    representation = layers.Dropout(0.5)(representation)\n",
        "    # Add MLP.\n",
        "    features = mlp(representation, hidden_units=mlp_head_units, dropout_rate=0.5)\n",
        "    # Classify outputs.\n",
        "    logits = layers.Dense(num_classes)(features)\n",
        "    # Create the Keras model.\n",
        "    model = keras.Model(inputs=inputs, outputs=logits)\n",
        "    return model"
      ],
      "execution_count": 21,
      "outputs": []
    },
    {
      "cell_type": "code",
      "metadata": {
        "id": "GwoBlI8BfrPj"
      },
      "source": [
        ""
      ],
      "execution_count": null,
      "outputs": []
    },
    {
      "cell_type": "code",
      "metadata": {
        "colab": {
          "base_uri": "https://localhost:8080/"
        },
        "id": "VpH851TocYhU",
        "outputId": "07724cbc-9dd0-4f67-ff83-d9a6cb4dad5a"
      },
      "source": [
        "def run_experiment(model):\n",
        "    optimizer = tfa.optimizers.AdamW(\n",
        "        learning_rate=learning_rate, weight_decay=weight_decay\n",
        "    )\n",
        "\n",
        "    model.compile(\n",
        "        optimizer=optimizer,\n",
        "        loss=keras.losses.SparseCategoricalCrossentropy(from_logits=True),\n",
        "        metrics=[\n",
        "            keras.metrics.SparseCategoricalAccuracy(name=\"accuracy\"),\n",
        "            keras.metrics.SparseTopKCategoricalAccuracy(5, name=\"top-5-accuracy\"),\n",
        "        ],\n",
        "    )\n",
        "\n",
        "    checkpoint_filepath = \"/tmp/checkpoint\"\n",
        "    checkpoint_callback = keras.callbacks.ModelCheckpoint(\n",
        "        checkpoint_filepath,\n",
        "        monitor=\"val_accuracy\",\n",
        "        save_best_only=True,\n",
        "        save_weights_only=True,\n",
        "    )\n",
        "\n",
        "    history = model.fit(\n",
        "        x=x_train,\n",
        "        y=y_train,\n",
        "        batch_size=batch_size,\n",
        "        epochs=num_epochs,\n",
        "        validation_split=0.1,\n",
        "        callbacks=[checkpoint_callback],\n",
        "    )\n",
        "\n",
        "    model.load_weights(checkpoint_filepath)\n",
        "    _, accuracy, top_5_accuracy = model.evaluate(x_test, y_test)\n",
        "    print(f\"Test accuracy: {round(accuracy * 100, 2)}%\")\n",
        "    print(f\"Test top 5 accuracy: {round(top_5_accuracy * 100, 2)}%\")\n",
        "\n",
        "    return history\n",
        "\n",
        "\n",
        "vit_classifier = create_vit_classifier()\n",
        "history = run_experiment(vit_classifier)"
      ],
      "execution_count": null,
      "outputs": [
        {
          "output_type": "stream",
          "name": "stdout",
          "text": [
            "Epoch 1/100\n",
            " 18/176 [==>...........................] - ETA: 36:36 - loss: 5.5061 - accuracy: 0.0178 - top-5-accuracy: 0.0705"
          ]
        }
      ]
    }
  ]
}