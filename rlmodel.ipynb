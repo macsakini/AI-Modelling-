{
  "nbformat": 4,
  "nbformat_minor": 0,
  "metadata": {
    "colab": {
      "name": "rlmodel.ipynb",
      "provenance": [],
      "authorship_tag": "ABX9TyPiOUc4kSgEc34Dcfm4kuYJ",
      "include_colab_link": true
    },
    "kernelspec": {
      "name": "python3",
      "display_name": "Python 3"
    },
    "language_info": {
      "name": "python"
    }
  },
  "cells": [
    {
      "cell_type": "markdown",
      "metadata": {
        "id": "view-in-github",
        "colab_type": "text"
      },
      "source": [
        "<a href=\"https://colab.research.google.com/github/macsakini/AI-Modelling-/blob/main/rlmodel.ipynb\" target=\"_parent\"><img src=\"https://colab.research.google.com/assets/colab-badge.svg\" alt=\"Open In Colab\"/></a>"
      ]
    },
    {
      "cell_type": "code",
      "metadata": {
        "id": "SKL-Xuun0kwd"
      },
      "source": [
        "import gym\n",
        "import keras\n",
        "import tensorflow\n",
        "#import keras_rl2\n",
        "import random\n",
        "import numpy as np"
      ],
      "execution_count": 182,
      "outputs": []
    },
    {
      "cell_type": "code",
      "metadata": {
        "id": "BAb-6fe71Bfq"
      },
      "source": [
        "class BalanceEnv(gym.Env):\n",
        "  #metadata = {‘render.modes’: [‘human’]}\n",
        "\n",
        "  def __init__(self):\n",
        "    #0 is going down, 1 is going up\n",
        "    self.action_space = gym.spaces.Discrete(2,)\n",
        "    #ranges from o to 7 metres\n",
        "    self.observation_space = gym.spaces.Box(low = np.array([0]),high = np.array([7]))\n",
        "\n",
        "    self.game_length = 20\n",
        "\n",
        "    self.state = 3.5 + random.randint(-1,1)\n",
        "\n",
        "    pass\n",
        "\n",
        "  def step(self, action):\n",
        "    if action == 0:\n",
        "        self.state -= 1.25\n",
        "        self.game_length -= 1\n",
        "    else:\n",
        "        self.state += 1.25\n",
        "        self.game_length -= 1 \n",
        "    \n",
        "    if self.state >= 0 and self.state<= 7:\n",
        "        reward = 1\n",
        "    else:\n",
        "        reward = -1\n",
        "\n",
        "    if self.game_length <= 0:\n",
        "        done = True\n",
        "    elif self.state < 0:\n",
        "        done = True\n",
        "    elif self.state > 7:\n",
        "        done =True\n",
        "    else:\n",
        "        done = False\n",
        "\n",
        "    # Apply temperature noise\n",
        "    #self.state += ra\n",
        "\n",
        "    info = {}\n",
        "    \n",
        "    return self.state, reward, done, info\n",
        "\n",
        "  def render(self):\n",
        "    pass\n",
        "\n",
        "  def reset(self):\n",
        "    self.game_length = 50\n",
        "\n",
        "    self.state = 3.5 + random.randint(-1,1)\n",
        "    \n",
        "    return self.state"
      ],
      "execution_count": 162,
      "outputs": []
    },
    {
      "cell_type": "code",
      "metadata": {
        "colab": {
          "base_uri": "https://localhost:8080/"
        },
        "id": "Ab7fj1rN4dh2",
        "outputId": "fe49b59b-0dae-4eae-974d-7fc84473da44"
      },
      "source": [
        "env = BalanceEnv()"
      ],
      "execution_count": 167,
      "outputs": [
        {
          "output_type": "stream",
          "name": "stderr",
          "text": [
            "/usr/local/lib/python3.7/dist-packages/gym/logger.py:30: UserWarning: \u001b[33mWARN: Box bound precision lowered by casting to float32\u001b[0m\n",
            "  warnings.warn(colorize('%s: %s'%('WARN', msg % args), 'yellow'))\n"
          ]
        }
      ]
    },
    {
      "cell_type": "markdown",
      "metadata": {
        "id": "gNQDvHQL6hRJ"
      },
      "source": [
        ""
      ]
    },
    {
      "cell_type": "code",
      "metadata": {
        "colab": {
          "base_uri": "https://localhost:8080/"
        },
        "id": "1Uu1e4zK6iGq",
        "outputId": "c8a1ce10-d156-4c65-b9ed-23e0d61491d9"
      },
      "source": [
        "env.observation_space.sample()"
      ],
      "execution_count": 139,
      "outputs": [
        {
          "output_type": "execute_result",
          "data": {
            "text/plain": [
              "array([2.6841073], dtype=float32)"
            ]
          },
          "metadata": {},
          "execution_count": 139
        }
      ]
    },
    {
      "cell_type": "code",
      "metadata": {
        "colab": {
          "base_uri": "https://localhost:8080/"
        },
        "id": "ccjvOgto6pOZ",
        "outputId": "a6d1525f-54f8-4b5a-e707-3c0a667c8959"
      },
      "source": [
        "episodes = 10\n",
        "observation = env.reset()\n",
        "for episode in range(1, episodes + 1):\n",
        "    state = env.reset()\n",
        "    \n",
        "    done = False\n",
        "    \n",
        "    score = 0 \n",
        "    \n",
        "    while not done:\n",
        "        #env.render()\n",
        "        action = env.action_space.sample()\n",
        "        n_state, reward, done, info = env.step(action)\n",
        "        #print(n_state)\n",
        "        score += reward\n",
        "    \n",
        "    print('Episode:{} Score:{} Steps:{}'.format(episode, score, n_state))"
      ],
      "execution_count": 159,
      "outputs": [
        {
          "output_type": "stream",
          "name": "stdout",
          "text": [
            "Episode:1 Score:20 Steps:2.0\n",
            "Episode:2 Score:1 Steps:8.25\n",
            "Episode:3 Score:20 Steps:2.0\n",
            "Episode:4 Score:1 Steps:-0.25\n",
            "Episode:5 Score:7 Steps:-1.25\n",
            "Episode:6 Score:2 Steps:7.5\n",
            "Episode:7 Score:3 Steps:-0.25\n",
            "Episode:8 Score:2 Steps:7.5\n",
            "Episode:9 Score:11 Steps:8.25\n",
            "Episode:10 Score:15 Steps:8.25\n"
          ]
        }
      ]
    },
    {
      "cell_type": "code",
      "metadata": {
        "id": "-Yxt79eOHpgs"
      },
      "source": [
        "import numpy as np\n",
        "from tensorflow.keras.models import Sequential\n",
        "from tensorflow.keras.layers import Dense, Flatten\n",
        "from tensorflow.keras.optimizers import Adam"
      ],
      "execution_count": 140,
      "outputs": []
    },
    {
      "cell_type": "code",
      "metadata": {
        "id": "Z81n3PFE7MjG"
      },
      "source": [
        "states = env.observation_space.shape\n",
        "actions = env.action_space.n"
      ],
      "execution_count": 141,
      "outputs": []
    },
    {
      "cell_type": "code",
      "metadata": {
        "id": "oQ2uAV2JBbAA"
      },
      "source": [
        "def build_model(states, actions):\n",
        "    model = tensorflow.keras.Sequential()    \n",
        "    model.add(Dense(24, activation='relu', input_shape=states))\n",
        "    model.add(Dense(24, activation='relu'))\n",
        "    model.add(Dense(actions, activation='linear'))\n",
        "    return model"
      ],
      "execution_count": 136,
      "outputs": []
    },
    {
      "cell_type": "code",
      "metadata": {
        "colab": {
          "base_uri": "https://localhost:8080/"
        },
        "id": "ksIbQUxxIDIE",
        "outputId": "d80154ea-776b-4ef1-c7b7-62b1178347f3"
      },
      "source": [
        "model = build_model(states, actions)\n",
        "model.summary()"
      ],
      "execution_count": 150,
      "outputs": [
        {
          "output_type": "stream",
          "name": "stdout",
          "text": [
            "Model: \"sequential_7\"\n",
            "_________________________________________________________________\n",
            "Layer (type)                 Output Shape              Param #   \n",
            "=================================================================\n",
            "dense_17 (Dense)             (None, 24)                48        \n",
            "_________________________________________________________________\n",
            "dense_18 (Dense)             (None, 24)                600       \n",
            "_________________________________________________________________\n",
            "dense_19 (Dense)             (None, 2)                 50        \n",
            "=================================================================\n",
            "Total params: 698\n",
            "Trainable params: 698\n",
            "Non-trainable params: 0\n",
            "_________________________________________________________________\n"
          ]
        }
      ]
    },
    {
      "cell_type": "code",
      "metadata": {
        "id": "Hnl50Hy9IPUz"
      },
      "source": [
        "from rl.agents import DQNAgent\n",
        "from rl.policy import BoltzmannQPolicy\n",
        "from rl.memory import SequentialMemory"
      ],
      "execution_count": 112,
      "outputs": []
    },
    {
      "cell_type": "code",
      "metadata": {
        "id": "9AYUvQNaIcRG"
      },
      "source": [
        "def build_agent(model, actions):\n",
        "    policy = BoltzmannQPolicy()\n",
        "    memory = SequentialMemory(limit=50000, window_length=1)\n",
        "    dqn = DQNAgent(model=model, memory=memory, policy=policy, \n",
        "                  nb_actions=actions, nb_steps_warmup=10, target_model_update=1e-2)\n",
        "    return dqn"
      ],
      "execution_count": 149,
      "outputs": []
    },
    {
      "cell_type": "code",
      "metadata": {
        "colab": {
          "base_uri": "https://localhost:8080/"
        },
        "id": "fbn81Yd2IiX7",
        "outputId": "d22177ae-20e7-49de-cebf-ef034aa3c1e2"
      },
      "source": [
        "dqn = build_agent(model, actions)\n",
        "dqn.compile(Adam(learning_rate = 1e-3), metrics=['mae'])\n",
        "dqn.fit(env, nb_steps=4000, visualize=False, verbose=1)"
      ],
      "execution_count": 151,
      "outputs": [
        {
          "output_type": "stream",
          "name": "stdout",
          "text": [
            "Training for 4000 steps ...\n",
            "Interval 1 (0 steps performed)\n"
          ]
        },
        {
          "output_type": "stream",
          "name": "stderr",
          "text": [
            "/usr/local/lib/python3.7/dist-packages/keras/engine/training.py:2470: UserWarning: `Model.state_updates` will be removed in a future version. This property should not be used in TensorFlow 2.0, as `updates` are applied automatically.\n",
            "  warnings.warn('`Model.state_updates` will be removed in a future version. '\n"
          ]
        },
        {
          "output_type": "stream",
          "name": "stdout",
          "text": [
            "\r    1/10000 [..............................] - ETA: 53:45 - reward: 1.0000"
          ]
        },
        {
          "output_type": "stream",
          "name": "stderr",
          "text": [
            "/usr/local/lib/python3.7/dist-packages/rl/memory.py:37: UserWarning: Not enough entries to sample without replacement. Consider increasing your warm-up phase to avoid oversampling!\n",
            "  warnings.warn('Not enough entries to sample without replacement. Consider increasing your warm-up phase to avoid oversampling!')\n"
          ]
        },
        {
          "output_type": "stream",
          "name": "stdout",
          "text": [
            " 3995/10000 [==========>...................] - ETA: 57s - reward: 0.9840done, took 38.333 seconds\n"
          ]
        },
        {
          "output_type": "execute_result",
          "data": {
            "text/plain": [
              "<keras.callbacks.History at 0x7f4dcf03e890>"
            ]
          },
          "metadata": {},
          "execution_count": 151
        }
      ]
    },
    {
      "cell_type": "code",
      "metadata": {
        "colab": {
          "base_uri": "https://localhost:8080/"
        },
        "id": "xQl69FoXKn-v",
        "outputId": "8b4b2e93-4a16-435c-fa83-b8aab1f0b45f"
      },
      "source": [
        "scores = dqn.test(env, nb_episodes=10, visualize=False)\n",
        "print(np.mean(scores.history['episode_reward']))\n",
        "print(scores)"
      ],
      "execution_count": 177,
      "outputs": [
        {
          "output_type": "stream",
          "name": "stdout",
          "text": [
            "Testing for 10 episodes ...\n",
            "Episode 1: reward: 50.000, steps: 50\n",
            "Episode 2: reward: 50.000, steps: 50\n",
            "Episode 3: reward: 50.000, steps: 50\n",
            "Episode 4: reward: 50.000, steps: 50\n",
            "Episode 5: reward: 50.000, steps: 50\n",
            "Episode 6: reward: 50.000, steps: 50\n",
            "Episode 7: reward: 50.000, steps: 50\n",
            "Episode 8: reward: 50.000, steps: 50\n",
            "Episode 9: reward: 50.000, steps: 50\n",
            "Episode 10: reward: 50.000, steps: 50\n",
            "50.0\n",
            "<keras.callbacks.History object at 0x7f4dcee3f8d0>\n"
          ]
        }
      ]
    },
    {
      "cell_type": "code",
      "metadata": {
        "id": "dFoDaaG-QqOj"
      },
      "source": [
        "dqn.save_weights('dqn_weights.h5f', overwrite=True)"
      ],
      "execution_count": 178,
      "outputs": []
    },
    {
      "cell_type": "markdown",
      "metadata": {
        "id": "94vrVhgVKxZy"
      },
      "source": [
        ""
      ]
    }
  ]
}