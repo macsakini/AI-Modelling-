{
  "nbformat": 4,
  "nbformat_minor": 0,
  "metadata": {
    "colab": {
      "name": "agent_model.ipynb",
      "provenance": [],
      "collapsed_sections": [],
      "authorship_tag": "ABX9TyOydCG5G9hGmoTap2Wolbtc",
      "include_colab_link": true
    },
    "kernelspec": {
      "name": "python3",
      "display_name": "Python 3"
    },
    "language_info": {
      "name": "python"
    }
  },
  "cells": [
    {
      "cell_type": "markdown",
      "metadata": {
        "id": "view-in-github",
        "colab_type": "text"
      },
      "source": [
        "<a href=\"https://colab.research.google.com/github/macsakini/AI-Modelling-/blob/main/agent_model.ipynb\" target=\"_parent\"><img src=\"https://colab.research.google.com/assets/colab-badge.svg\" alt=\"Open In Colab\"/></a>"
      ]
    },
    {
      "cell_type": "code",
      "metadata": {
        "id": "RJISMI5PmeYh"
      },
      "source": [
        "import tensorflow as tf\n",
        "import numpy as np\n",
        "import pandas as pd\n",
        "from tensorflow import keras\n",
        "from tensorflow.keras import layers"
      ],
      "execution_count": null,
      "outputs": []
    },
    {
      "cell_type": "code",
      "metadata": {
        "id": "crMzPYQI9ReJ"
      },
      "source": [
        "import matplotlib.pyplot as plt\n",
        "import numpy as np\n",
        "import pandas as pd\n",
        "import seaborn as sns\n",
        "\n",
        "\n",
        "# Make numpy printouts easier to read.\n",
        "np.set_printoptions(precision=3, suppress=True)"
      ],
      "execution_count": null,
      "outputs": []
    },
    {
      "cell_type": "code",
      "metadata": {
        "id": "UvnSHpg7mgMY"
      },
      "source": [
        "data = pd.read_excel(\"general.xlsx\", sheet_name=\"general\")"
      ],
      "execution_count": null,
      "outputs": []
    },
    {
      "cell_type": "code",
      "metadata": {
        "colab": {
          "base_uri": "https://localhost:8080/"
        },
        "id": "ex__9sW-mk6F",
        "outputId": "9a931f15-7da9-4da9-d1fe-d35fccc84a1c"
      },
      "source": [
        "data.shape"
      ],
      "execution_count": null,
      "outputs": [
        {
          "output_type": "execute_result",
          "data": {
            "text/plain": [
              "(5005, 11)"
            ]
          },
          "metadata": {},
          "execution_count": 6
        }
      ]
    },
    {
      "cell_type": "code",
      "metadata": {
        "colab": {
          "base_uri": "https://localhost:8080/",
          "height": 243
        },
        "id": "FjisDaWIpvMo",
        "outputId": "fd3b0296-d864-470f-959d-c3e469f90c2e"
      },
      "source": [
        "data.head()"
      ],
      "execution_count": null,
      "outputs": [
        {
          "output_type": "execute_result",
          "data": {
            "text/html": [
              "<div>\n",
              "<style scoped>\n",
              "    .dataframe tbody tr th:only-of-type {\n",
              "        vertical-align: middle;\n",
              "    }\n",
              "\n",
              "    .dataframe tbody tr th {\n",
              "        vertical-align: top;\n",
              "    }\n",
              "\n",
              "    .dataframe thead th {\n",
              "        text-align: right;\n",
              "    }\n",
              "</style>\n",
              "<table border=\"1\" class=\"dataframe\">\n",
              "  <thead>\n",
              "    <tr style=\"text-align: right;\">\n",
              "      <th></th>\n",
              "      <th>Player ID</th>\n",
              "      <th>Leader</th>\n",
              "      <th>Is_Spy</th>\n",
              "      <th>Total_Spies</th>\n",
              "      <th>Vote</th>\n",
              "      <th>Betray</th>\n",
              "      <th>Mission_size</th>\n",
              "      <th>Mission_Success</th>\n",
              "      <th>Total_Betrayals</th>\n",
              "      <th>Missions_failed</th>\n",
              "      <th>Rounds_complete</th>\n",
              "    </tr>\n",
              "  </thead>\n",
              "  <tbody>\n",
              "    <tr>\n",
              "      <th>0</th>\n",
              "      <td>0</td>\n",
              "      <td>0</td>\n",
              "      <td>True</td>\n",
              "      <td>3</td>\n",
              "      <td>True</td>\n",
              "      <td>True</td>\n",
              "      <td>2</td>\n",
              "      <td>False</td>\n",
              "      <td>1</td>\n",
              "      <td>1</td>\n",
              "      <td>1</td>\n",
              "    </tr>\n",
              "    <tr>\n",
              "      <th>1</th>\n",
              "      <td>1</td>\n",
              "      <td>0</td>\n",
              "      <td>False</td>\n",
              "      <td>0</td>\n",
              "      <td>False</td>\n",
              "      <td>None</td>\n",
              "      <td>2</td>\n",
              "      <td>False</td>\n",
              "      <td>1</td>\n",
              "      <td>1</td>\n",
              "      <td>1</td>\n",
              "    </tr>\n",
              "    <tr>\n",
              "      <th>2</th>\n",
              "      <td>2</td>\n",
              "      <td>0</td>\n",
              "      <td>False</td>\n",
              "      <td>0</td>\n",
              "      <td>False</td>\n",
              "      <td>None</td>\n",
              "      <td>2</td>\n",
              "      <td>False</td>\n",
              "      <td>1</td>\n",
              "      <td>1</td>\n",
              "      <td>1</td>\n",
              "    </tr>\n",
              "    <tr>\n",
              "      <th>3</th>\n",
              "      <td>3</td>\n",
              "      <td>0</td>\n",
              "      <td>True</td>\n",
              "      <td>3</td>\n",
              "      <td>False</td>\n",
              "      <td>True</td>\n",
              "      <td>2</td>\n",
              "      <td>False</td>\n",
              "      <td>1</td>\n",
              "      <td>1</td>\n",
              "      <td>1</td>\n",
              "    </tr>\n",
              "    <tr>\n",
              "      <th>4</th>\n",
              "      <td>4</td>\n",
              "      <td>0</td>\n",
              "      <td>False</td>\n",
              "      <td>0</td>\n",
              "      <td>False</td>\n",
              "      <td>None</td>\n",
              "      <td>2</td>\n",
              "      <td>False</td>\n",
              "      <td>1</td>\n",
              "      <td>1</td>\n",
              "      <td>1</td>\n",
              "    </tr>\n",
              "  </tbody>\n",
              "</table>\n",
              "</div>"
            ],
            "text/plain": [
              "   Player ID  Leader  Is_Spy  ...  Total_Betrayals  Missions_failed Rounds_complete\n",
              "0          0       0    True  ...                1                1               1\n",
              "1          1       0   False  ...                1                1               1\n",
              "2          2       0   False  ...                1                1               1\n",
              "3          3       0    True  ...                1                1               1\n",
              "4          4       0   False  ...                1                1               1\n",
              "\n",
              "[5 rows x 11 columns]"
            ]
          },
          "metadata": {},
          "execution_count": 7
        }
      ]
    },
    {
      "cell_type": "code",
      "metadata": {
        "colab": {
          "base_uri": "https://localhost:8080/",
          "height": 243
        },
        "id": "stlbckj6PcFN",
        "outputId": "62c8ddba-582d-4e36-b77e-2d13db5bf169"
      },
      "source": [
        "dataset = data.copy()\n",
        "dataset.tail()"
      ],
      "execution_count": null,
      "outputs": [
        {
          "output_type": "execute_result",
          "data": {
            "text/html": [
              "<div>\n",
              "<style scoped>\n",
              "    .dataframe tbody tr th:only-of-type {\n",
              "        vertical-align: middle;\n",
              "    }\n",
              "\n",
              "    .dataframe tbody tr th {\n",
              "        vertical-align: top;\n",
              "    }\n",
              "\n",
              "    .dataframe thead th {\n",
              "        text-align: right;\n",
              "    }\n",
              "</style>\n",
              "<table border=\"1\" class=\"dataframe\">\n",
              "  <thead>\n",
              "    <tr style=\"text-align: right;\">\n",
              "      <th></th>\n",
              "      <th>Player ID</th>\n",
              "      <th>Leader</th>\n",
              "      <th>Is_Spy</th>\n",
              "      <th>Total_Spies</th>\n",
              "      <th>Vote</th>\n",
              "      <th>Betray</th>\n",
              "      <th>Mission_size</th>\n",
              "      <th>Mission_Success</th>\n",
              "      <th>Total_Betrayals</th>\n",
              "      <th>Missions_failed</th>\n",
              "      <th>Rounds_complete</th>\n",
              "    </tr>\n",
              "  </thead>\n",
              "  <tbody>\n",
              "    <tr>\n",
              "      <th>5000</th>\n",
              "      <td>2</td>\n",
              "      <td>5</td>\n",
              "      <td>False</td>\n",
              "      <td>0</td>\n",
              "      <td>True</td>\n",
              "      <td>None</td>\n",
              "      <td>5</td>\n",
              "      <td>True</td>\n",
              "      <td>0</td>\n",
              "      <td>1</td>\n",
              "      <td>5</td>\n",
              "    </tr>\n",
              "    <tr>\n",
              "      <th>5001</th>\n",
              "      <td>3</td>\n",
              "      <td>5</td>\n",
              "      <td>False</td>\n",
              "      <td>0</td>\n",
              "      <td>True</td>\n",
              "      <td>None</td>\n",
              "      <td>5</td>\n",
              "      <td>True</td>\n",
              "      <td>0</td>\n",
              "      <td>1</td>\n",
              "      <td>5</td>\n",
              "    </tr>\n",
              "    <tr>\n",
              "      <th>5002</th>\n",
              "      <td>4</td>\n",
              "      <td>5</td>\n",
              "      <td>True</td>\n",
              "      <td>3</td>\n",
              "      <td>False</td>\n",
              "      <td>False</td>\n",
              "      <td>5</td>\n",
              "      <td>True</td>\n",
              "      <td>0</td>\n",
              "      <td>1</td>\n",
              "      <td>5</td>\n",
              "    </tr>\n",
              "    <tr>\n",
              "      <th>5003</th>\n",
              "      <td>5</td>\n",
              "      <td>5</td>\n",
              "      <td>False</td>\n",
              "      <td>0</td>\n",
              "      <td>True</td>\n",
              "      <td>None</td>\n",
              "      <td>5</td>\n",
              "      <td>True</td>\n",
              "      <td>0</td>\n",
              "      <td>1</td>\n",
              "      <td>5</td>\n",
              "    </tr>\n",
              "    <tr>\n",
              "      <th>5004</th>\n",
              "      <td>6</td>\n",
              "      <td>5</td>\n",
              "      <td>True</td>\n",
              "      <td>3</td>\n",
              "      <td>True</td>\n",
              "      <td>False</td>\n",
              "      <td>5</td>\n",
              "      <td>True</td>\n",
              "      <td>0</td>\n",
              "      <td>1</td>\n",
              "      <td>5</td>\n",
              "    </tr>\n",
              "  </tbody>\n",
              "</table>\n",
              "</div>"
            ],
            "text/plain": [
              "      Player ID  Leader  ...  Missions_failed  Rounds_complete\n",
              "5000          2       5  ...                1                5\n",
              "5001          3       5  ...                1                5\n",
              "5002          4       5  ...                1                5\n",
              "5003          5       5  ...                1                5\n",
              "5004          6       5  ...                1                5\n",
              "\n",
              "[5 rows x 11 columns]"
            ]
          },
          "metadata": {},
          "execution_count": 8
        }
      ]
    },
    {
      "cell_type": "code",
      "metadata": {
        "colab": {
          "base_uri": "https://localhost:8080/",
          "height": 226
        },
        "id": "dzDhfsAHRaGA",
        "outputId": "c7e15dcf-d0b7-4c19-ce1c-e397ae4d997b"
      },
      "source": [
        "dataset = pd.get_dummies(dataset, columns=['Player ID','Leader','Betray'], \n",
        "                         prefix=['Player_ID','Leader','Betray'],\n",
        "                         prefix_sep = \"_\" )\n",
        "dataset.tail()"
      ],
      "execution_count": null,
      "outputs": [
        {
          "output_type": "execute_result",
          "data": {
            "text/html": [
              "<div>\n",
              "<style scoped>\n",
              "    .dataframe tbody tr th:only-of-type {\n",
              "        vertical-align: middle;\n",
              "    }\n",
              "\n",
              "    .dataframe tbody tr th {\n",
              "        vertical-align: top;\n",
              "    }\n",
              "\n",
              "    .dataframe thead th {\n",
              "        text-align: right;\n",
              "    }\n",
              "</style>\n",
              "<table border=\"1\" class=\"dataframe\">\n",
              "  <thead>\n",
              "    <tr style=\"text-align: right;\">\n",
              "      <th></th>\n",
              "      <th>Is_Spy</th>\n",
              "      <th>Total_Spies</th>\n",
              "      <th>Vote</th>\n",
              "      <th>Mission_size</th>\n",
              "      <th>Mission_Success</th>\n",
              "      <th>Total_Betrayals</th>\n",
              "      <th>Missions_failed</th>\n",
              "      <th>Rounds_complete</th>\n",
              "      <th>Player_ID_0</th>\n",
              "      <th>Player_ID_1</th>\n",
              "      <th>Player_ID_2</th>\n",
              "      <th>Player_ID_3</th>\n",
              "      <th>Player_ID_4</th>\n",
              "      <th>Player_ID_5</th>\n",
              "      <th>Player_ID_6</th>\n",
              "      <th>Leader_0</th>\n",
              "      <th>Leader_1</th>\n",
              "      <th>Leader_2</th>\n",
              "      <th>Leader_3</th>\n",
              "      <th>Leader_4</th>\n",
              "      <th>Leader_5</th>\n",
              "      <th>Leader_6</th>\n",
              "      <th>Betray_False</th>\n",
              "      <th>Betray_True</th>\n",
              "      <th>Betray_None</th>\n",
              "    </tr>\n",
              "  </thead>\n",
              "  <tbody>\n",
              "    <tr>\n",
              "      <th>5000</th>\n",
              "      <td>False</td>\n",
              "      <td>0</td>\n",
              "      <td>True</td>\n",
              "      <td>5</td>\n",
              "      <td>True</td>\n",
              "      <td>0</td>\n",
              "      <td>1</td>\n",
              "      <td>5</td>\n",
              "      <td>0</td>\n",
              "      <td>0</td>\n",
              "      <td>1</td>\n",
              "      <td>0</td>\n",
              "      <td>0</td>\n",
              "      <td>0</td>\n",
              "      <td>0</td>\n",
              "      <td>0</td>\n",
              "      <td>0</td>\n",
              "      <td>0</td>\n",
              "      <td>0</td>\n",
              "      <td>0</td>\n",
              "      <td>1</td>\n",
              "      <td>0</td>\n",
              "      <td>0</td>\n",
              "      <td>0</td>\n",
              "      <td>1</td>\n",
              "    </tr>\n",
              "    <tr>\n",
              "      <th>5001</th>\n",
              "      <td>False</td>\n",
              "      <td>0</td>\n",
              "      <td>True</td>\n",
              "      <td>5</td>\n",
              "      <td>True</td>\n",
              "      <td>0</td>\n",
              "      <td>1</td>\n",
              "      <td>5</td>\n",
              "      <td>0</td>\n",
              "      <td>0</td>\n",
              "      <td>0</td>\n",
              "      <td>1</td>\n",
              "      <td>0</td>\n",
              "      <td>0</td>\n",
              "      <td>0</td>\n",
              "      <td>0</td>\n",
              "      <td>0</td>\n",
              "      <td>0</td>\n",
              "      <td>0</td>\n",
              "      <td>0</td>\n",
              "      <td>1</td>\n",
              "      <td>0</td>\n",
              "      <td>0</td>\n",
              "      <td>0</td>\n",
              "      <td>1</td>\n",
              "    </tr>\n",
              "    <tr>\n",
              "      <th>5002</th>\n",
              "      <td>True</td>\n",
              "      <td>3</td>\n",
              "      <td>False</td>\n",
              "      <td>5</td>\n",
              "      <td>True</td>\n",
              "      <td>0</td>\n",
              "      <td>1</td>\n",
              "      <td>5</td>\n",
              "      <td>0</td>\n",
              "      <td>0</td>\n",
              "      <td>0</td>\n",
              "      <td>0</td>\n",
              "      <td>1</td>\n",
              "      <td>0</td>\n",
              "      <td>0</td>\n",
              "      <td>0</td>\n",
              "      <td>0</td>\n",
              "      <td>0</td>\n",
              "      <td>0</td>\n",
              "      <td>0</td>\n",
              "      <td>1</td>\n",
              "      <td>0</td>\n",
              "      <td>1</td>\n",
              "      <td>0</td>\n",
              "      <td>0</td>\n",
              "    </tr>\n",
              "    <tr>\n",
              "      <th>5003</th>\n",
              "      <td>False</td>\n",
              "      <td>0</td>\n",
              "      <td>True</td>\n",
              "      <td>5</td>\n",
              "      <td>True</td>\n",
              "      <td>0</td>\n",
              "      <td>1</td>\n",
              "      <td>5</td>\n",
              "      <td>0</td>\n",
              "      <td>0</td>\n",
              "      <td>0</td>\n",
              "      <td>0</td>\n",
              "      <td>0</td>\n",
              "      <td>1</td>\n",
              "      <td>0</td>\n",
              "      <td>0</td>\n",
              "      <td>0</td>\n",
              "      <td>0</td>\n",
              "      <td>0</td>\n",
              "      <td>0</td>\n",
              "      <td>1</td>\n",
              "      <td>0</td>\n",
              "      <td>0</td>\n",
              "      <td>0</td>\n",
              "      <td>1</td>\n",
              "    </tr>\n",
              "    <tr>\n",
              "      <th>5004</th>\n",
              "      <td>True</td>\n",
              "      <td>3</td>\n",
              "      <td>True</td>\n",
              "      <td>5</td>\n",
              "      <td>True</td>\n",
              "      <td>0</td>\n",
              "      <td>1</td>\n",
              "      <td>5</td>\n",
              "      <td>0</td>\n",
              "      <td>0</td>\n",
              "      <td>0</td>\n",
              "      <td>0</td>\n",
              "      <td>0</td>\n",
              "      <td>0</td>\n",
              "      <td>1</td>\n",
              "      <td>0</td>\n",
              "      <td>0</td>\n",
              "      <td>0</td>\n",
              "      <td>0</td>\n",
              "      <td>0</td>\n",
              "      <td>1</td>\n",
              "      <td>0</td>\n",
              "      <td>1</td>\n",
              "      <td>0</td>\n",
              "      <td>0</td>\n",
              "    </tr>\n",
              "  </tbody>\n",
              "</table>\n",
              "</div>"
            ],
            "text/plain": [
              "      Is_Spy  Total_Spies   Vote  ...  Betray_False  Betray_True  Betray_None\n",
              "5000   False            0   True  ...             0            0            1\n",
              "5001   False            0   True  ...             0            0            1\n",
              "5002    True            3  False  ...             1            0            0\n",
              "5003   False            0   True  ...             0            0            1\n",
              "5004    True            3   True  ...             1            0            0\n",
              "\n",
              "[5 rows x 25 columns]"
            ]
          },
          "metadata": {},
          "execution_count": 9
        }
      ]
    },
    {
      "cell_type": "code",
      "metadata": {
        "colab": {
          "base_uri": "https://localhost:8080/"
        },
        "id": "aZJ55eWG6F41",
        "outputId": "47260dcb-2ff6-44cc-f503-3b15eafeb2ee"
      },
      "source": [
        "data[\"Vote\"].astype(int)\n",
        "data[\"Is_Spy\"].astype(int)\n",
        "data[\"Mission_Success\"].astype(int)"
      ],
      "execution_count": null,
      "outputs": [
        {
          "output_type": "execute_result",
          "data": {
            "text/plain": [
              "0       0\n",
              "1       0\n",
              "2       0\n",
              "3       0\n",
              "4       0\n",
              "       ..\n",
              "5000    1\n",
              "5001    1\n",
              "5002    1\n",
              "5003    1\n",
              "5004    1\n",
              "Name: Mission_Success, Length: 5005, dtype: int64"
            ]
          },
          "metadata": {},
          "execution_count": 13
        }
      ]
    },
    {
      "cell_type": "code",
      "metadata": {
        "id": "6byD8Y1LRdXY"
      },
      "source": [
        "train_dataset = dataset.sample(frac=0.8, random_state=0).astype(int)\n",
        "test_dataset = dataset.drop(train_dataset.index).astype(int)"
      ],
      "execution_count": null,
      "outputs": []
    },
    {
      "cell_type": "code",
      "metadata": {
        "colab": {
          "base_uri": "https://localhost:8080/",
          "height": 320
        },
        "id": "VXTFQ2rRq1T1",
        "outputId": "9cff7bc7-1489-4f9a-f6dc-68b306aa3360"
      },
      "source": [
        "train_dataset.describe()"
      ],
      "execution_count": null,
      "outputs": [
        {
          "output_type": "execute_result",
          "data": {
            "text/html": [
              "<div>\n",
              "<style scoped>\n",
              "    .dataframe tbody tr th:only-of-type {\n",
              "        vertical-align: middle;\n",
              "    }\n",
              "\n",
              "    .dataframe tbody tr th {\n",
              "        vertical-align: top;\n",
              "    }\n",
              "\n",
              "    .dataframe thead th {\n",
              "        text-align: right;\n",
              "    }\n",
              "</style>\n",
              "<table border=\"1\" class=\"dataframe\">\n",
              "  <thead>\n",
              "    <tr style=\"text-align: right;\">\n",
              "      <th></th>\n",
              "      <th>Is_Spy</th>\n",
              "      <th>Total_Spies</th>\n",
              "      <th>Vote</th>\n",
              "      <th>Mission_size</th>\n",
              "      <th>Mission_Success</th>\n",
              "      <th>Total_Betrayals</th>\n",
              "      <th>Missions_failed</th>\n",
              "      <th>Rounds_complete</th>\n",
              "      <th>Player_ID_0</th>\n",
              "      <th>Player_ID_1</th>\n",
              "      <th>Player_ID_2</th>\n",
              "      <th>Player_ID_3</th>\n",
              "      <th>Player_ID_4</th>\n",
              "      <th>Player_ID_5</th>\n",
              "      <th>Player_ID_6</th>\n",
              "      <th>Leader_0</th>\n",
              "      <th>Leader_1</th>\n",
              "      <th>Leader_2</th>\n",
              "      <th>Leader_3</th>\n",
              "      <th>Leader_4</th>\n",
              "      <th>Leader_5</th>\n",
              "      <th>Leader_6</th>\n",
              "      <th>Betray_False</th>\n",
              "      <th>Betray_True</th>\n",
              "      <th>Betray_None</th>\n",
              "    </tr>\n",
              "  </thead>\n",
              "  <tbody>\n",
              "    <tr>\n",
              "      <th>count</th>\n",
              "      <td>4004.000000</td>\n",
              "      <td>4004.000000</td>\n",
              "      <td>4004.000000</td>\n",
              "      <td>4004.00000</td>\n",
              "      <td>4004.000000</td>\n",
              "      <td>4004.000000</td>\n",
              "      <td>4004.000000</td>\n",
              "      <td>4004.000000</td>\n",
              "      <td>4004.000000</td>\n",
              "      <td>4004.000000</td>\n",
              "      <td>4004.000000</td>\n",
              "      <td>4004.000000</td>\n",
              "      <td>4004.000000</td>\n",
              "      <td>4004.000000</td>\n",
              "      <td>4004.000000</td>\n",
              "      <td>4004.000000</td>\n",
              "      <td>4004.000000</td>\n",
              "      <td>4004.000000</td>\n",
              "      <td>4004.000000</td>\n",
              "      <td>4004.000000</td>\n",
              "      <td>4004.000000</td>\n",
              "      <td>4004.000000</td>\n",
              "      <td>4004.000000</td>\n",
              "      <td>4004.000000</td>\n",
              "      <td>4004.000000</td>\n",
              "    </tr>\n",
              "    <tr>\n",
              "      <th>mean</th>\n",
              "      <td>0.428072</td>\n",
              "      <td>1.284216</td>\n",
              "      <td>0.402847</td>\n",
              "      <td>3.27048</td>\n",
              "      <td>0.682817</td>\n",
              "      <td>0.441059</td>\n",
              "      <td>1.184815</td>\n",
              "      <td>3.013736</td>\n",
              "      <td>0.138112</td>\n",
              "      <td>0.145105</td>\n",
              "      <td>0.152098</td>\n",
              "      <td>0.143856</td>\n",
              "      <td>0.142857</td>\n",
              "      <td>0.139860</td>\n",
              "      <td>0.138112</td>\n",
              "      <td>0.196553</td>\n",
              "      <td>0.167083</td>\n",
              "      <td>0.143357</td>\n",
              "      <td>0.167582</td>\n",
              "      <td>0.149101</td>\n",
              "      <td>0.083666</td>\n",
              "      <td>0.092657</td>\n",
              "      <td>0.298951</td>\n",
              "      <td>0.129121</td>\n",
              "      <td>0.571928</td>\n",
              "    </tr>\n",
              "    <tr>\n",
              "      <th>std</th>\n",
              "      <td>0.494861</td>\n",
              "      <td>1.484583</td>\n",
              "      <td>0.490532</td>\n",
              "      <td>1.01894</td>\n",
              "      <td>0.465437</td>\n",
              "      <td>0.586953</td>\n",
              "      <td>1.062526</td>\n",
              "      <td>1.424794</td>\n",
              "      <td>0.345060</td>\n",
              "      <td>0.352251</td>\n",
              "      <td>0.359161</td>\n",
              "      <td>0.350988</td>\n",
              "      <td>0.349971</td>\n",
              "      <td>0.346885</td>\n",
              "      <td>0.345060</td>\n",
              "      <td>0.397441</td>\n",
              "      <td>0.373096</td>\n",
              "      <td>0.350480</td>\n",
              "      <td>0.373542</td>\n",
              "      <td>0.356232</td>\n",
              "      <td>0.276921</td>\n",
              "      <td>0.289988</td>\n",
              "      <td>0.457856</td>\n",
              "      <td>0.335376</td>\n",
              "      <td>0.494861</td>\n",
              "    </tr>\n",
              "    <tr>\n",
              "      <th>min</th>\n",
              "      <td>0.000000</td>\n",
              "      <td>0.000000</td>\n",
              "      <td>0.000000</td>\n",
              "      <td>2.00000</td>\n",
              "      <td>0.000000</td>\n",
              "      <td>0.000000</td>\n",
              "      <td>0.000000</td>\n",
              "      <td>1.000000</td>\n",
              "      <td>0.000000</td>\n",
              "      <td>0.000000</td>\n",
              "      <td>0.000000</td>\n",
              "      <td>0.000000</td>\n",
              "      <td>0.000000</td>\n",
              "      <td>0.000000</td>\n",
              "      <td>0.000000</td>\n",
              "      <td>0.000000</td>\n",
              "      <td>0.000000</td>\n",
              "      <td>0.000000</td>\n",
              "      <td>0.000000</td>\n",
              "      <td>0.000000</td>\n",
              "      <td>0.000000</td>\n",
              "      <td>0.000000</td>\n",
              "      <td>0.000000</td>\n",
              "      <td>0.000000</td>\n",
              "      <td>0.000000</td>\n",
              "    </tr>\n",
              "    <tr>\n",
              "      <th>25%</th>\n",
              "      <td>0.000000</td>\n",
              "      <td>0.000000</td>\n",
              "      <td>0.000000</td>\n",
              "      <td>3.00000</td>\n",
              "      <td>0.000000</td>\n",
              "      <td>0.000000</td>\n",
              "      <td>0.000000</td>\n",
              "      <td>2.000000</td>\n",
              "      <td>0.000000</td>\n",
              "      <td>0.000000</td>\n",
              "      <td>0.000000</td>\n",
              "      <td>0.000000</td>\n",
              "      <td>0.000000</td>\n",
              "      <td>0.000000</td>\n",
              "      <td>0.000000</td>\n",
              "      <td>0.000000</td>\n",
              "      <td>0.000000</td>\n",
              "      <td>0.000000</td>\n",
              "      <td>0.000000</td>\n",
              "      <td>0.000000</td>\n",
              "      <td>0.000000</td>\n",
              "      <td>0.000000</td>\n",
              "      <td>0.000000</td>\n",
              "      <td>0.000000</td>\n",
              "      <td>0.000000</td>\n",
              "    </tr>\n",
              "    <tr>\n",
              "      <th>50%</th>\n",
              "      <td>0.000000</td>\n",
              "      <td>0.000000</td>\n",
              "      <td>0.000000</td>\n",
              "      <td>3.00000</td>\n",
              "      <td>1.000000</td>\n",
              "      <td>0.000000</td>\n",
              "      <td>1.000000</td>\n",
              "      <td>3.000000</td>\n",
              "      <td>0.000000</td>\n",
              "      <td>0.000000</td>\n",
              "      <td>0.000000</td>\n",
              "      <td>0.000000</td>\n",
              "      <td>0.000000</td>\n",
              "      <td>0.000000</td>\n",
              "      <td>0.000000</td>\n",
              "      <td>0.000000</td>\n",
              "      <td>0.000000</td>\n",
              "      <td>0.000000</td>\n",
              "      <td>0.000000</td>\n",
              "      <td>0.000000</td>\n",
              "      <td>0.000000</td>\n",
              "      <td>0.000000</td>\n",
              "      <td>0.000000</td>\n",
              "      <td>0.000000</td>\n",
              "      <td>1.000000</td>\n",
              "    </tr>\n",
              "    <tr>\n",
              "      <th>75%</th>\n",
              "      <td>1.000000</td>\n",
              "      <td>3.000000</td>\n",
              "      <td>1.000000</td>\n",
              "      <td>4.00000</td>\n",
              "      <td>1.000000</td>\n",
              "      <td>1.000000</td>\n",
              "      <td>2.000000</td>\n",
              "      <td>4.000000</td>\n",
              "      <td>0.000000</td>\n",
              "      <td>0.000000</td>\n",
              "      <td>0.000000</td>\n",
              "      <td>0.000000</td>\n",
              "      <td>0.000000</td>\n",
              "      <td>0.000000</td>\n",
              "      <td>0.000000</td>\n",
              "      <td>0.000000</td>\n",
              "      <td>0.000000</td>\n",
              "      <td>0.000000</td>\n",
              "      <td>0.000000</td>\n",
              "      <td>0.000000</td>\n",
              "      <td>0.000000</td>\n",
              "      <td>0.000000</td>\n",
              "      <td>1.000000</td>\n",
              "      <td>0.000000</td>\n",
              "      <td>1.000000</td>\n",
              "    </tr>\n",
              "    <tr>\n",
              "      <th>max</th>\n",
              "      <td>1.000000</td>\n",
              "      <td>3.000000</td>\n",
              "      <td>1.000000</td>\n",
              "      <td>5.00000</td>\n",
              "      <td>1.000000</td>\n",
              "      <td>2.000000</td>\n",
              "      <td>5.000000</td>\n",
              "      <td>5.000000</td>\n",
              "      <td>1.000000</td>\n",
              "      <td>1.000000</td>\n",
              "      <td>1.000000</td>\n",
              "      <td>1.000000</td>\n",
              "      <td>1.000000</td>\n",
              "      <td>1.000000</td>\n",
              "      <td>1.000000</td>\n",
              "      <td>1.000000</td>\n",
              "      <td>1.000000</td>\n",
              "      <td>1.000000</td>\n",
              "      <td>1.000000</td>\n",
              "      <td>1.000000</td>\n",
              "      <td>1.000000</td>\n",
              "      <td>1.000000</td>\n",
              "      <td>1.000000</td>\n",
              "      <td>1.000000</td>\n",
              "      <td>1.000000</td>\n",
              "    </tr>\n",
              "  </tbody>\n",
              "</table>\n",
              "</div>"
            ],
            "text/plain": [
              "            Is_Spy  Total_Spies  ...  Betray_True  Betray_None\n",
              "count  4004.000000  4004.000000  ...  4004.000000  4004.000000\n",
              "mean      0.428072     1.284216  ...     0.129121     0.571928\n",
              "std       0.494861     1.484583  ...     0.335376     0.494861\n",
              "min       0.000000     0.000000  ...     0.000000     0.000000\n",
              "25%       0.000000     0.000000  ...     0.000000     0.000000\n",
              "50%       0.000000     0.000000  ...     0.000000     1.000000\n",
              "75%       1.000000     3.000000  ...     0.000000     1.000000\n",
              "max       1.000000     3.000000  ...     1.000000     1.000000\n",
              "\n",
              "[8 rows x 25 columns]"
            ]
          },
          "metadata": {},
          "execution_count": 22
        }
      ]
    },
    {
      "cell_type": "code",
      "metadata": {
        "id": "GVtTI8rLq6TP"
      },
      "source": [
        "train_features = train_dataset.copy()\n",
        "test_features = test_dataset.copy()\n",
        "\n",
        "train_labels = train_features.pop('Vote')\n",
        "test_labels= test_features.pop('Vote')\n"
      ],
      "execution_count": null,
      "outputs": []
    },
    {
      "cell_type": "code",
      "metadata": {
        "colab": {
          "base_uri": "https://localhost:8080/"
        },
        "id": "thPTw953R18u",
        "outputId": "4de72757-6755-450d-a0e0-ac7da82831e3"
      },
      "source": [
        "print(train_features)"
      ],
      "execution_count": null,
      "outputs": [
        {
          "output_type": "stream",
          "name": "stdout",
          "text": [
            "      Is_Spy  Total_Spies  Mission_size  ...  Betray_False  Betray_True  Betray_None\n",
            "1261       1            3             2  ...             0            1            0\n",
            "939        1            3             5  ...             1            0            0\n",
            "575        1            3             3  ...             1            0            0\n",
            "666        0            0             2  ...             0            0            1\n",
            "4294       1            3             4  ...             1            0            0\n",
            "...      ...          ...           ...  ...           ...          ...          ...\n",
            "258        1            3             2  ...             1            0            0\n",
            "3835       1            3             3  ...             1            0            0\n",
            "769        1            3             5  ...             1            0            0\n",
            "2061       0            0             5  ...             0            0            1\n",
            "4215       0            0             3  ...             0            0            1\n",
            "\n",
            "[4004 rows x 24 columns]\n"
          ]
        }
      ]
    },
    {
      "cell_type": "code",
      "metadata": {
        "id": "mK5u9PA8ylps",
        "colab": {
          "base_uri": "https://localhost:8080/"
        },
        "outputId": "a4d1e480-2d98-4f31-bf71-711c24ec9052"
      },
      "source": [
        "from tensorflow.keras.layers import Normalization\n",
        "\n",
        "\n",
        "normalizer = Normalization(axis=-1)\n",
        "\n",
        "normalizer.adapt(np.array(train_features))\n",
        "\n",
        "print(normalizer.mean.numpy())"
      ],
      "execution_count": null,
      "outputs": [
        {
          "output_type": "stream",
          "name": "stdout",
          "text": [
            "[[0.4280718  1.2842156  3.2704797  0.6828173  0.44105887 1.1848149\n",
            "  3.0137355  0.13811192 0.14510486 0.1520979  0.1438561  0.14285715\n",
            "  0.13986015 0.13811186 0.19655345 0.16708294 0.14335665 0.16758244\n",
            "  0.14910084 0.08366637 0.09265734 0.298951   0.12912089 0.5719283 ]]\n"
          ]
        }
      ]
    },
    {
      "cell_type": "code",
      "metadata": {
        "colab": {
          "base_uri": "https://localhost:8080/"
        },
        "id": "KuFZj7nn8DSq",
        "outputId": "659b1678-ab08-4971-ad23-00bb661d5a1c"
      },
      "source": [
        "first = np.array(train_features[:1])\n",
        "\n",
        "with np.printoptions(precision=2, suppress=True):\n",
        "  print('First example:', first)\n",
        "  print()\n",
        "  print('Normalized:', normalizer(first).numpy())"
      ],
      "execution_count": null,
      "outputs": [
        {
          "output_type": "stream",
          "name": "stdout",
          "text": [
            "First example: [[1 3 2 1 0 0 1 0 1 0 0 0 0 0 1 0 0 0 0 0 0 0 1 0]]\n",
            "\n",
            "Normalized: [[ 1.16  1.16 -1.25  0.68 -0.75 -1.12 -1.41 -0.4   2.43 -0.42 -0.41 -0.41\n",
            "  -0.4  -0.4   2.02 -0.45 -0.41 -0.45 -0.42 -0.3  -0.32 -0.65  2.6  -1.16]]\n"
          ]
        }
      ]
    },
    {
      "cell_type": "code",
      "metadata": {
        "id": "Be5UWRZT8MUA"
      },
      "source": [
        "def build_and_compile_model(norm):\n",
        "  model = keras.Sequential([\n",
        "      #layers.Input(24,),\n",
        "      norm,\n",
        "      layers.Dense(64, activation='relu'),\n",
        "      #layers.Dense(64, activation='sigmoid'),\n",
        "      layers.Dense(1)\n",
        "  ])\n",
        "\n",
        "  model.compile(loss='binary_crossentropy',\n",
        "                optimizer=tf.keras.optimizers.Adam(0.001),\n",
        "                metrics=[\"accuracy\"])\n",
        "  return model"
      ],
      "execution_count": 191,
      "outputs": []
    },
    {
      "cell_type": "code",
      "metadata": {
        "colab": {
          "base_uri": "https://localhost:8080/"
        },
        "id": "AK-JqWVp8QXy",
        "outputId": "9f02b747-7134-470e-e104-30bba1c38ece"
      },
      "source": [
        "dnn_model = build_and_compile_model(normalizer)\n",
        "dnn_model.summary()"
      ],
      "execution_count": 192,
      "outputs": [
        {
          "output_type": "stream",
          "name": "stdout",
          "text": [
            "Model: \"sequential_20\"\n",
            "_________________________________________________________________\n",
            "Layer (type)                 Output Shape              Param #   \n",
            "=================================================================\n",
            "normalization_1 (Normalizati (None, 24)                49        \n",
            "_________________________________________________________________\n",
            "dense_54 (Dense)             (None, 64)                1600      \n",
            "_________________________________________________________________\n",
            "dense_55 (Dense)             (None, 1)                 65        \n",
            "=================================================================\n",
            "Total params: 1,714\n",
            "Trainable params: 1,665\n",
            "Non-trainable params: 49\n",
            "_________________________________________________________________\n"
          ]
        }
      ]
    },
    {
      "cell_type": "code",
      "metadata": {
        "colab": {
          "base_uri": "https://localhost:8080/"
        },
        "id": "SFy5zSdy8R9P",
        "outputId": "aebec7b3-fc27-4f2a-e7a7-98ce7b14f6bf"
      },
      "source": [
        "history = dnn_model.fit(\n",
        "    train_features, train_labels,\n",
        "    validation_split=0.2,\n",
        "    verbose=1, epochs=100)\n",
        "\n",
        "history"
      ],
      "execution_count": 193,
      "outputs": [
        {
          "output_type": "stream",
          "name": "stdout",
          "text": [
            "Epoch 1/100\n",
            "101/101 [==============================] - 1s 4ms/step - loss: 2.6527 - accuracy: 0.5467 - val_loss: 2.1920 - val_accuracy: 0.5431\n",
            "Epoch 2/100\n",
            "101/101 [==============================] - 0s 2ms/step - loss: 1.6816 - accuracy: 0.5273 - val_loss: 1.2152 - val_accuracy: 0.5194\n",
            "Epoch 3/100\n",
            "101/101 [==============================] - 0s 2ms/step - loss: 1.0294 - accuracy: 0.5376 - val_loss: 0.9489 - val_accuracy: 0.5194\n",
            "Epoch 4/100\n",
            "101/101 [==============================] - 0s 3ms/step - loss: 0.9476 - accuracy: 0.5214 - val_loss: 0.8272 - val_accuracy: 0.5268\n",
            "Epoch 5/100\n",
            "101/101 [==============================] - 0s 2ms/step - loss: 0.7878 - accuracy: 0.5361 - val_loss: 0.7553 - val_accuracy: 0.5106\n",
            "Epoch 6/100\n",
            "101/101 [==============================] - 0s 2ms/step - loss: 0.7431 - accuracy: 0.5507 - val_loss: 0.7487 - val_accuracy: 0.5231\n",
            "Epoch 7/100\n",
            "101/101 [==============================] - 0s 3ms/step - loss: 0.7273 - accuracy: 0.5514 - val_loss: 0.7279 - val_accuracy: 0.5218\n",
            "Epoch 8/100\n",
            "101/101 [==============================] - 0s 2ms/step - loss: 0.7111 - accuracy: 0.5582 - val_loss: 0.7236 - val_accuracy: 0.5293\n",
            "Epoch 9/100\n",
            "101/101 [==============================] - 0s 2ms/step - loss: 0.7079 - accuracy: 0.5570 - val_loss: 0.7201 - val_accuracy: 0.5144\n",
            "Epoch 10/100\n",
            "101/101 [==============================] - 0s 2ms/step - loss: 0.6894 - accuracy: 0.5713 - val_loss: 0.7149 - val_accuracy: 0.5144\n",
            "Epoch 11/100\n",
            "101/101 [==============================] - 0s 3ms/step - loss: 0.6827 - accuracy: 0.5770 - val_loss: 0.7113 - val_accuracy: 0.5318\n",
            "Epoch 12/100\n",
            "101/101 [==============================] - 0s 2ms/step - loss: 0.6794 - accuracy: 0.5763 - val_loss: 0.7110 - val_accuracy: 0.5256\n",
            "Epoch 13/100\n",
            "101/101 [==============================] - 0s 2ms/step - loss: 0.6754 - accuracy: 0.5779 - val_loss: 0.7114 - val_accuracy: 0.5456\n",
            "Epoch 14/100\n",
            "101/101 [==============================] - 0s 2ms/step - loss: 0.6736 - accuracy: 0.5888 - val_loss: 0.7102 - val_accuracy: 0.5381\n",
            "Epoch 15/100\n",
            "101/101 [==============================] - 0s 2ms/step - loss: 0.6704 - accuracy: 0.5832 - val_loss: 0.7039 - val_accuracy: 0.5281\n",
            "Epoch 16/100\n",
            "101/101 [==============================] - 0s 2ms/step - loss: 0.6684 - accuracy: 0.5951 - val_loss: 0.7090 - val_accuracy: 0.5331\n",
            "Epoch 17/100\n",
            "101/101 [==============================] - 0s 2ms/step - loss: 0.6660 - accuracy: 0.5929 - val_loss: 0.7052 - val_accuracy: 0.5293\n",
            "Epoch 18/100\n",
            "101/101 [==============================] - 0s 2ms/step - loss: 0.6632 - accuracy: 0.5979 - val_loss: 0.7113 - val_accuracy: 0.5605\n",
            "Epoch 19/100\n",
            "101/101 [==============================] - 0s 2ms/step - loss: 0.6607 - accuracy: 0.5948 - val_loss: 0.7023 - val_accuracy: 0.5306\n",
            "Epoch 20/100\n",
            "101/101 [==============================] - 0s 3ms/step - loss: 0.6608 - accuracy: 0.6029 - val_loss: 0.7038 - val_accuracy: 0.5356\n",
            "Epoch 21/100\n",
            "101/101 [==============================] - 0s 2ms/step - loss: 0.6582 - accuracy: 0.6032 - val_loss: 0.7058 - val_accuracy: 0.5493\n",
            "Epoch 22/100\n",
            "101/101 [==============================] - 0s 2ms/step - loss: 0.6578 - accuracy: 0.6032 - val_loss: 0.7064 - val_accuracy: 0.5443\n",
            "Epoch 23/100\n",
            "101/101 [==============================] - 0s 2ms/step - loss: 0.6563 - accuracy: 0.6191 - val_loss: 0.7064 - val_accuracy: 0.5506\n",
            "Epoch 24/100\n",
            "101/101 [==============================] - 0s 2ms/step - loss: 0.6555 - accuracy: 0.6085 - val_loss: 0.7103 - val_accuracy: 0.5518\n",
            "Epoch 25/100\n",
            "101/101 [==============================] - 0s 2ms/step - loss: 0.6535 - accuracy: 0.6166 - val_loss: 0.7109 - val_accuracy: 0.5506\n",
            "Epoch 26/100\n",
            "101/101 [==============================] - 0s 2ms/step - loss: 0.6507 - accuracy: 0.6207 - val_loss: 0.7097 - val_accuracy: 0.5506\n",
            "Epoch 27/100\n",
            "101/101 [==============================] - 0s 2ms/step - loss: 0.6504 - accuracy: 0.6207 - val_loss: 0.7218 - val_accuracy: 0.5356\n",
            "Epoch 28/100\n",
            "101/101 [==============================] - 0s 2ms/step - loss: 0.6489 - accuracy: 0.6225 - val_loss: 0.7207 - val_accuracy: 0.5443\n",
            "Epoch 29/100\n",
            "101/101 [==============================] - 0s 2ms/step - loss: 0.6485 - accuracy: 0.6266 - val_loss: 0.7193 - val_accuracy: 0.5393\n",
            "Epoch 30/100\n",
            "101/101 [==============================] - 0s 2ms/step - loss: 0.6487 - accuracy: 0.6169 - val_loss: 0.7062 - val_accuracy: 0.5406\n",
            "Epoch 31/100\n",
            "101/101 [==============================] - 0s 2ms/step - loss: 0.6450 - accuracy: 0.6272 - val_loss: 0.7164 - val_accuracy: 0.5493\n",
            "Epoch 32/100\n",
            "101/101 [==============================] - 0s 2ms/step - loss: 0.6477 - accuracy: 0.6160 - val_loss: 0.7101 - val_accuracy: 0.5393\n",
            "Epoch 33/100\n",
            "101/101 [==============================] - 0s 2ms/step - loss: 0.6445 - accuracy: 0.6222 - val_loss: 0.7180 - val_accuracy: 0.5393\n",
            "Epoch 34/100\n",
            "101/101 [==============================] - 0s 2ms/step - loss: 0.6444 - accuracy: 0.6250 - val_loss: 0.7119 - val_accuracy: 0.5443\n",
            "Epoch 35/100\n",
            "101/101 [==============================] - 0s 2ms/step - loss: 0.6438 - accuracy: 0.6241 - val_loss: 0.7119 - val_accuracy: 0.5468\n",
            "Epoch 36/100\n",
            "101/101 [==============================] - 0s 2ms/step - loss: 0.6411 - accuracy: 0.6275 - val_loss: 0.7168 - val_accuracy: 0.5543\n",
            "Epoch 37/100\n",
            "101/101 [==============================] - 0s 2ms/step - loss: 0.6379 - accuracy: 0.6303 - val_loss: 0.7126 - val_accuracy: 0.5331\n",
            "Epoch 38/100\n",
            "101/101 [==============================] - 0s 2ms/step - loss: 0.6395 - accuracy: 0.6319 - val_loss: 0.7071 - val_accuracy: 0.5443\n",
            "Epoch 39/100\n",
            "101/101 [==============================] - 0s 2ms/step - loss: 0.6385 - accuracy: 0.6303 - val_loss: 0.7436 - val_accuracy: 0.5643\n",
            "Epoch 40/100\n",
            "101/101 [==============================] - 0s 2ms/step - loss: 0.6378 - accuracy: 0.6332 - val_loss: 0.7166 - val_accuracy: 0.5556\n",
            "Epoch 41/100\n",
            "101/101 [==============================] - 0s 2ms/step - loss: 0.6363 - accuracy: 0.6322 - val_loss: 0.7333 - val_accuracy: 0.5493\n",
            "Epoch 42/100\n",
            "101/101 [==============================] - 0s 2ms/step - loss: 0.6351 - accuracy: 0.6335 - val_loss: 0.7341 - val_accuracy: 0.5356\n",
            "Epoch 43/100\n",
            "101/101 [==============================] - 0s 2ms/step - loss: 0.6388 - accuracy: 0.6260 - val_loss: 0.7198 - val_accuracy: 0.5231\n",
            "Epoch 44/100\n",
            "101/101 [==============================] - 0s 2ms/step - loss: 0.6320 - accuracy: 0.6378 - val_loss: 0.7423 - val_accuracy: 0.5293\n",
            "Epoch 45/100\n",
            "101/101 [==============================] - 0s 2ms/step - loss: 0.6322 - accuracy: 0.6382 - val_loss: 0.7197 - val_accuracy: 0.5381\n",
            "Epoch 46/100\n",
            "101/101 [==============================] - 0s 2ms/step - loss: 0.6298 - accuracy: 0.6431 - val_loss: 0.7346 - val_accuracy: 0.5531\n",
            "Epoch 47/100\n",
            "101/101 [==============================] - 0s 2ms/step - loss: 0.6303 - accuracy: 0.6431 - val_loss: 0.7243 - val_accuracy: 0.5331\n",
            "Epoch 48/100\n",
            "101/101 [==============================] - 0s 2ms/step - loss: 0.6276 - accuracy: 0.6394 - val_loss: 0.7187 - val_accuracy: 0.5605\n",
            "Epoch 49/100\n",
            "101/101 [==============================] - 0s 3ms/step - loss: 0.6265 - accuracy: 0.6447 - val_loss: 0.7770 - val_accuracy: 0.5556\n",
            "Epoch 50/100\n",
            "101/101 [==============================] - 0s 3ms/step - loss: 0.6268 - accuracy: 0.6338 - val_loss: 0.7835 - val_accuracy: 0.5768\n",
            "Epoch 51/100\n",
            "101/101 [==============================] - 0s 2ms/step - loss: 0.6293 - accuracy: 0.6410 - val_loss: 0.7474 - val_accuracy: 0.5381\n",
            "Epoch 52/100\n",
            "101/101 [==============================] - 0s 2ms/step - loss: 0.6312 - accuracy: 0.6403 - val_loss: 0.7597 - val_accuracy: 0.5543\n",
            "Epoch 53/100\n",
            "101/101 [==============================] - 0s 2ms/step - loss: 0.6249 - accuracy: 0.6444 - val_loss: 0.7179 - val_accuracy: 0.5443\n",
            "Epoch 54/100\n",
            "101/101 [==============================] - 0s 2ms/step - loss: 0.6247 - accuracy: 0.6453 - val_loss: 0.7325 - val_accuracy: 0.5643\n",
            "Epoch 55/100\n",
            "101/101 [==============================] - 0s 2ms/step - loss: 0.6261 - accuracy: 0.6350 - val_loss: 0.7419 - val_accuracy: 0.5568\n",
            "Epoch 56/100\n",
            "101/101 [==============================] - 0s 2ms/step - loss: 0.6219 - accuracy: 0.6491 - val_loss: 0.7284 - val_accuracy: 0.5393\n",
            "Epoch 57/100\n",
            "101/101 [==============================] - 0s 2ms/step - loss: 0.6202 - accuracy: 0.6435 - val_loss: 0.7247 - val_accuracy: 0.5418\n",
            "Epoch 58/100\n",
            "101/101 [==============================] - 0s 2ms/step - loss: 0.6222 - accuracy: 0.6553 - val_loss: 0.7648 - val_accuracy: 0.5468\n",
            "Epoch 59/100\n",
            "101/101 [==============================] - 0s 2ms/step - loss: 0.6193 - accuracy: 0.6531 - val_loss: 0.7269 - val_accuracy: 0.5456\n",
            "Epoch 60/100\n",
            "101/101 [==============================] - 0s 2ms/step - loss: 0.6188 - accuracy: 0.6550 - val_loss: 0.8133 - val_accuracy: 0.5705\n",
            "Epoch 61/100\n",
            "101/101 [==============================] - 0s 2ms/step - loss: 0.6169 - accuracy: 0.6531 - val_loss: 0.7387 - val_accuracy: 0.5418\n",
            "Epoch 62/100\n",
            "101/101 [==============================] - 0s 2ms/step - loss: 0.6167 - accuracy: 0.6528 - val_loss: 0.7408 - val_accuracy: 0.5456\n",
            "Epoch 63/100\n",
            "101/101 [==============================] - 0s 2ms/step - loss: 0.6169 - accuracy: 0.6463 - val_loss: 0.8302 - val_accuracy: 0.5556\n",
            "Epoch 64/100\n",
            "101/101 [==============================] - 0s 2ms/step - loss: 0.6141 - accuracy: 0.6572 - val_loss: 0.7983 - val_accuracy: 0.5568\n",
            "Epoch 65/100\n",
            "101/101 [==============================] - 0s 2ms/step - loss: 0.6162 - accuracy: 0.6544 - val_loss: 0.7382 - val_accuracy: 0.5568\n",
            "Epoch 66/100\n",
            "101/101 [==============================] - 0s 2ms/step - loss: 0.6180 - accuracy: 0.6588 - val_loss: 0.8415 - val_accuracy: 0.5468\n",
            "Epoch 67/100\n",
            "101/101 [==============================] - 0s 2ms/step - loss: 0.6122 - accuracy: 0.6525 - val_loss: 0.7755 - val_accuracy: 0.5443\n",
            "Epoch 68/100\n",
            "101/101 [==============================] - 0s 2ms/step - loss: 0.6116 - accuracy: 0.6594 - val_loss: 0.7598 - val_accuracy: 0.5381\n",
            "Epoch 69/100\n",
            "101/101 [==============================] - 0s 2ms/step - loss: 0.6111 - accuracy: 0.6547 - val_loss: 0.7943 - val_accuracy: 0.5543\n",
            "Epoch 70/100\n",
            "101/101 [==============================] - 0s 2ms/step - loss: 0.6127 - accuracy: 0.6600 - val_loss: 0.7958 - val_accuracy: 0.5643\n",
            "Epoch 71/100\n",
            "101/101 [==============================] - 0s 3ms/step - loss: 0.6150 - accuracy: 0.6497 - val_loss: 0.8081 - val_accuracy: 0.5531\n",
            "Epoch 72/100\n",
            "101/101 [==============================] - 0s 2ms/step - loss: 0.6066 - accuracy: 0.6609 - val_loss: 0.7744 - val_accuracy: 0.5468\n",
            "Epoch 73/100\n",
            "101/101 [==============================] - 0s 2ms/step - loss: 0.6087 - accuracy: 0.6581 - val_loss: 0.7761 - val_accuracy: 0.5605\n",
            "Epoch 74/100\n",
            "101/101 [==============================] - 0s 2ms/step - loss: 0.6066 - accuracy: 0.6684 - val_loss: 0.7746 - val_accuracy: 0.5493\n",
            "Epoch 75/100\n",
            "101/101 [==============================] - 0s 2ms/step - loss: 0.6111 - accuracy: 0.6525 - val_loss: 0.8042 - val_accuracy: 0.5493\n",
            "Epoch 76/100\n",
            "101/101 [==============================] - 0s 2ms/step - loss: 0.6093 - accuracy: 0.6578 - val_loss: 0.7927 - val_accuracy: 0.5493\n",
            "Epoch 77/100\n",
            "101/101 [==============================] - 0s 2ms/step - loss: 0.6082 - accuracy: 0.6566 - val_loss: 0.7464 - val_accuracy: 0.5393\n",
            "Epoch 78/100\n",
            "101/101 [==============================] - 0s 2ms/step - loss: 0.6025 - accuracy: 0.6650 - val_loss: 0.7844 - val_accuracy: 0.5581\n",
            "Epoch 79/100\n",
            "101/101 [==============================] - 0s 2ms/step - loss: 0.6033 - accuracy: 0.6525 - val_loss: 0.8032 - val_accuracy: 0.5605\n",
            "Epoch 80/100\n",
            "101/101 [==============================] - 0s 2ms/step - loss: 0.6019 - accuracy: 0.6653 - val_loss: 0.9006 - val_accuracy: 0.5630\n",
            "Epoch 81/100\n",
            "101/101 [==============================] - 0s 2ms/step - loss: 0.5989 - accuracy: 0.6712 - val_loss: 0.8899 - val_accuracy: 0.5568\n",
            "Epoch 82/100\n",
            "101/101 [==============================] - 0s 2ms/step - loss: 0.6021 - accuracy: 0.6656 - val_loss: 0.8903 - val_accuracy: 0.5618\n",
            "Epoch 83/100\n",
            "101/101 [==============================] - 0s 2ms/step - loss: 0.6001 - accuracy: 0.6672 - val_loss: 0.8117 - val_accuracy: 0.5693\n",
            "Epoch 84/100\n",
            "101/101 [==============================] - 0s 2ms/step - loss: 0.5994 - accuracy: 0.6656 - val_loss: 0.8532 - val_accuracy: 0.5194\n",
            "Epoch 85/100\n",
            "101/101 [==============================] - 0s 2ms/step - loss: 0.5974 - accuracy: 0.6675 - val_loss: 0.8744 - val_accuracy: 0.5556\n",
            "Epoch 86/100\n",
            "101/101 [==============================] - 0s 2ms/step - loss: 0.6113 - accuracy: 0.6556 - val_loss: 0.9055 - val_accuracy: 0.5556\n",
            "Epoch 87/100\n",
            "101/101 [==============================] - 0s 2ms/step - loss: 0.5983 - accuracy: 0.6613 - val_loss: 0.9147 - val_accuracy: 0.5481\n",
            "Epoch 88/100\n",
            "101/101 [==============================] - 0s 2ms/step - loss: 0.6000 - accuracy: 0.6684 - val_loss: 0.8578 - val_accuracy: 0.5593\n",
            "Epoch 89/100\n",
            "101/101 [==============================] - 0s 3ms/step - loss: 0.5936 - accuracy: 0.6694 - val_loss: 0.8368 - val_accuracy: 0.5593\n",
            "Epoch 90/100\n",
            "101/101 [==============================] - 0s 2ms/step - loss: 0.5965 - accuracy: 0.6584 - val_loss: 0.8165 - val_accuracy: 0.5518\n",
            "Epoch 91/100\n",
            "101/101 [==============================] - 0s 2ms/step - loss: 0.5942 - accuracy: 0.6716 - val_loss: 0.8465 - val_accuracy: 0.5568\n",
            "Epoch 92/100\n",
            "101/101 [==============================] - 0s 3ms/step - loss: 0.5921 - accuracy: 0.6725 - val_loss: 0.8142 - val_accuracy: 0.5568\n",
            "Epoch 93/100\n",
            "101/101 [==============================] - 0s 3ms/step - loss: 1.0579 - accuracy: 0.6197 - val_loss: 1.0748 - val_accuracy: 0.5268\n",
            "Epoch 94/100\n",
            "101/101 [==============================] - 0s 2ms/step - loss: 0.7363 - accuracy: 0.6294 - val_loss: 0.9583 - val_accuracy: 0.5581\n",
            "Epoch 95/100\n",
            "101/101 [==============================] - 0s 2ms/step - loss: 0.6332 - accuracy: 0.6572 - val_loss: 0.8939 - val_accuracy: 0.5755\n",
            "Epoch 96/100\n",
            "101/101 [==============================] - 0s 2ms/step - loss: 0.6204 - accuracy: 0.6650 - val_loss: 0.8648 - val_accuracy: 0.5568\n",
            "Epoch 97/100\n",
            "101/101 [==============================] - 0s 2ms/step - loss: 0.6162 - accuracy: 0.6647 - val_loss: 0.9029 - val_accuracy: 0.5456\n",
            "Epoch 98/100\n",
            "101/101 [==============================] - 0s 2ms/step - loss: 0.6053 - accuracy: 0.6656 - val_loss: 0.8985 - val_accuracy: 0.5443\n",
            "Epoch 99/100\n",
            "101/101 [==============================] - 0s 2ms/step - loss: 0.5906 - accuracy: 0.6687 - val_loss: 0.8852 - val_accuracy: 0.5493\n",
            "Epoch 100/100\n",
            "101/101 [==============================] - 0s 2ms/step - loss: 0.5893 - accuracy: 0.6759 - val_loss: 0.9181 - val_accuracy: 0.5568\n"
          ]
        },
        {
          "output_type": "execute_result",
          "data": {
            "text/plain": [
              "<keras.callbacks.History at 0x7ff220e2d210>"
            ]
          },
          "metadata": {},
          "execution_count": 193
        }
      ]
    },
    {
      "cell_type": "code",
      "metadata": {
        "colab": {
          "base_uri": "https://localhost:8080/",
          "height": 283
        },
        "id": "SSKLkPyM8v83",
        "outputId": "cd8d18a9-9007-4ff8-b350-ddd56023c9a7"
      },
      "source": [
        "def plot_loss(history):\n",
        "    plt.plot(history.history['loss'], label='loss')\n",
        "    plt.plot(history.history['val_loss'], label='val_loss')\n",
        "    plt.ylim([0, 3])\n",
        "    plt.xlabel('Epoch')\n",
        "    plt.ylabel('Error [MPG]')\n",
        "    plt.legend()\n",
        "    plt.grid(True)\n",
        "\n",
        "\n",
        "plot_loss(history)"
      ],
      "execution_count": 194,
      "outputs": [
        {
          "output_type": "display_data",
          "data": {
            "image/png": "[encoded data removed]",
            "text/plain": [
              "<Figure size 432x288 with 1 Axes>"
            ]
          },
          "metadata": {
            "needs_background": "light"
          }
        }
      ]
    },
    {
      "cell_type": "code",
      "metadata": {
        "id": "le08-Fi7_Eqe"
      },
      "source": [
        "results = dnn_model.evaluate(test_features, test_labels, verbose=0)"
      ],
      "execution_count": 195,
      "outputs": []
    },
    {
      "cell_type": "code",
      "metadata": {
        "colab": {
          "base_uri": "https://localhost:8080/"
        },
        "id": "-0vtnI9b9Pha",
        "outputId": "57db209a-dd26-42f0-ccaa-20291ff39538"
      },
      "source": [
        "print(f'This is the model loss: {results[0]}')"
      ],
      "execution_count": 196,
      "outputs": [
        {
          "output_type": "stream",
          "name": "stdout",
          "text": [
            "This is the model loss: 0.8160363435745239\n"
          ]
        }
      ]
    },
    {
      "cell_type": "code",
      "metadata": {
        "colab": {
          "base_uri": "https://localhost:8080/"
        },
        "id": "T7zx_BRlBJol",
        "outputId": "b6d66888-f5dd-49ff-b88d-a98eae2671a4"
      },
      "source": [
        "print(f'This is the model accuracy: {results[1]}')"
      ],
      "execution_count": 198,
      "outputs": [
        {
          "output_type": "stream",
          "name": "stdout",
          "text": [
            "This is the model accuracy: 0.5794205665588379\n"
          ]
        }
      ]
    },
    {
      "cell_type": "code",
      "metadata": {
        "colab": {
          "base_uri": "https://localhost:8080/"
        },
        "id": "STC42B6q_xHB",
        "outputId": "cdf04311-f08c-4560-ccba-79765b5ffd9c"
      },
      "source": [
        "test_predictions = dnn_model.predict(test_features).flatten()\n",
        "print(test_predictions)"
      ],
      "execution_count": 199,
      "outputs": [
        {
          "output_type": "stream",
          "name": "stdout",
          "text": [
            "[0.038 0.614 0.368 ... 0.278 0.514 0.28 ]\n"
          ]
        }
      ]
    },
    {
      "cell_type": "code",
      "metadata": {
        "colab": {
          "base_uri": "https://localhost:8080/"
        },
        "id": "_SwYkdFb9Pno",
        "outputId": "0c726b39-0641-4442-fd6b-24c977e4331e"
      },
      "source": [
        "dnn_model.save('dnn_model')"
      ],
      "execution_count": 200,
      "outputs": [
        {
          "output_type": "stream",
          "name": "stdout",
          "text": [
            "INFO:tensorflow:Assets written to: dnn_model/assets\n"
          ]
        }
      ]
    },
    {
      "cell_type": "code",
      "metadata": {
        "id": "f_GrNAmcCELR"
      },
      "source": [
        "reloaded = tf.keras.models.load_model('dnn_model')\n",
        "\n",
        "predicted = reloaded.predict(train_features[:100])\n",
        "\n",
        "a = pd.DataFrame(predicted,train_labels[:100])"
      ],
      "execution_count": 201,
      "outputs": []
    },
    {
      "cell_type": "code",
      "metadata": {
        "colab": {
          "base_uri": "https://localhost:8080/",
          "height": 455
        },
        "id": "rR6qm84zH_ke",
        "outputId": "9715c189-0d1b-4126-d56c-183c9c32a0d5"
      },
      "source": [
        "a"
      ],
      "execution_count": 202,
      "outputs": [
        {
          "output_type": "execute_result",
          "data": {
            "text/html": [
              "<div>\n",
              "<style scoped>\n",
              "    .dataframe tbody tr th:only-of-type {\n",
              "        vertical-align: middle;\n",
              "    }\n",
              "\n",
              "    .dataframe tbody tr th {\n",
              "        vertical-align: top;\n",
              "    }\n",
              "\n",
              "    .dataframe thead th {\n",
              "        text-align: right;\n",
              "    }\n",
              "</style>\n",
              "<table border=\"1\" class=\"dataframe\">\n",
              "  <thead>\n",
              "    <tr style=\"text-align: right;\">\n",
              "      <th></th>\n",
              "      <th>0</th>\n",
              "    </tr>\n",
              "    <tr>\n",
              "      <th>Vote</th>\n",
              "      <th></th>\n",
              "    </tr>\n",
              "  </thead>\n",
              "  <tbody>\n",
              "    <tr>\n",
              "      <th>0</th>\n",
              "      <td>0.149074</td>\n",
              "    </tr>\n",
              "    <tr>\n",
              "      <th>0</th>\n",
              "      <td>0.234589</td>\n",
              "    </tr>\n",
              "    <tr>\n",
              "      <th>0</th>\n",
              "      <td>0.138975</td>\n",
              "    </tr>\n",
              "    <tr>\n",
              "      <th>0</th>\n",
              "      <td>0.380321</td>\n",
              "    </tr>\n",
              "    <tr>\n",
              "      <th>0</th>\n",
              "      <td>0.379048</td>\n",
              "    </tr>\n",
              "    <tr>\n",
              "      <th>...</th>\n",
              "      <td>...</td>\n",
              "    </tr>\n",
              "    <tr>\n",
              "      <th>0</th>\n",
              "      <td>0.296207</td>\n",
              "    </tr>\n",
              "    <tr>\n",
              "      <th>0</th>\n",
              "      <td>0.097643</td>\n",
              "    </tr>\n",
              "    <tr>\n",
              "      <th>1</th>\n",
              "      <td>0.706188</td>\n",
              "    </tr>\n",
              "    <tr>\n",
              "      <th>0</th>\n",
              "      <td>-0.310637</td>\n",
              "    </tr>\n",
              "    <tr>\n",
              "      <th>0</th>\n",
              "      <td>0.479485</td>\n",
              "    </tr>\n",
              "  </tbody>\n",
              "</table>\n",
              "<p>100 rows × 1 columns</p>\n",
              "</div>"
            ],
            "text/plain": [
              "             0\n",
              "Vote          \n",
              "0     0.149074\n",
              "0     0.234589\n",
              "0     0.138975\n",
              "0     0.380321\n",
              "0     0.379048\n",
              "...        ...\n",
              "0     0.296207\n",
              "0     0.097643\n",
              "1     0.706188\n",
              "0    -0.310637\n",
              "0     0.479485\n",
              "\n",
              "[100 rows x 1 columns]"
            ]
          },
          "metadata": {},
          "execution_count": 202
        }
      ]
    }
  ]
}